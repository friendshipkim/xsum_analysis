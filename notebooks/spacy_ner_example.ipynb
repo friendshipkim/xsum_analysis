{
 "cells": [
  {
   "cell_type": "markdown",
   "id": "6e701f64",
   "metadata": {},
   "source": [
    "spacy ner example from:   \n",
    "https://www.analyticsvidhya.com/blog/2021/06/nlp-application-named-entity-recognition-ner-in-python-with-spacy/   \n",
    "https://towardsdatascience.com/named-entity-recognition-ner-using-spacy-nlp-part-4-28da2ece57c6   "
   ]
  },
  {
   "cell_type": "code",
   "execution_count": null,
   "id": "ece5ca08",
   "metadata": {},
   "outputs": [],
   "source": [
    "# !spacy download en"
   ]
  },
  {
   "cell_type": "markdown",
   "id": "0a4b05dd",
   "metadata": {},
   "source": [
    "# example 1"
   ]
  },
  {
   "cell_type": "code",
   "execution_count": null,
   "id": "ef173697",
   "metadata": {},
   "outputs": [],
   "source": [
    "import spacy\n",
    "from spacy import displacy\n",
    "NER = spacy.load(\"en_core_web_sm\")"
   ]
  },
  {
   "cell_type": "code",
   "execution_count": 3,
   "id": "0d2f6ea1",
   "metadata": {},
   "outputs": [],
   "source": [
    "raw_text=\"The Indian Space Research Organisation or is the national space agency of India, \\\n",
    "    headquartered in Bengaluru. It operates under Department of Space which is directly \\\n",
    "    overseen by the Prime Minister of India while Chairman of ISRO acts as executive of DOS as well.\""
   ]
  },
  {
   "cell_type": "code",
   "execution_count": 4,
   "id": "00f4b6c8",
   "metadata": {},
   "outputs": [],
   "source": [
    "raw_text2 = \"The Mars Orbiter Mission (MOM), informally known as Mangalyaan, \\\n",
    "    was launched into Earth orbit on 5 November 2013 by the Indian Space Research Organisation (ISRO) \\\n",
    "    and has entered Mars orbit on 24 September 2014. India thus became the first country to enter \\\n",
    "    Mars orbit on its first attempt. It was completed at a record low cost of $74 million.\""
   ]
  },
  {
   "cell_type": "code",
   "execution_count": 5,
   "id": "41a038c7",
   "metadata": {},
   "outputs": [],
   "source": [
    "text = NER(raw_text2)"
   ]
  },
  {
   "cell_type": "code",
   "execution_count": 6,
   "id": "e17bcce8",
   "metadata": {},
   "outputs": [
    {
     "name": "stdout",
     "output_type": "stream",
     "text": [
      "The Mars Orbiter Mission (MOM PRODUCT\n",
      "Mangalyaan PERSON\n",
      "Earth LOC\n",
      "5 November 2013 DATE\n",
      "the Indian Space Research Organisation ORG\n",
      "Mars LOC\n",
      "24 September 2014 DATE\n",
      "India GPE\n",
      "first ORDINAL\n",
      "Mars LOC\n",
      "$74 million MONEY\n"
     ]
    }
   ],
   "source": [
    "for word in text.ents:\n",
    "    print(word.text,word.label_)"
   ]
  },
  {
   "cell_type": "code",
   "execution_count": 7,
   "id": "ccf9a44c",
   "metadata": {},
   "outputs": [
    {
     "name": "stdout",
     "output_type": "stream",
     "text": [
      "* CARDINAL: Numerals that do not fall under another type\n",
      "* DATE: Absolute or relative dates or periods\n",
      "* EVENT: Named hurricanes, battles, wars, sports events, etc.\n",
      "* FAC: Buildings, airports, highways, bridges, etc.\n",
      "* GPE: Countries, cities, states\n",
      "* LANGUAGE: Any named language\n",
      "* LAW: Named documents made into laws.\n",
      "* LOC: Non-GPE locations, mountain ranges, bodies of water\n",
      "* MONEY: Monetary values, including unit\n",
      "* NORP: Nationalities or religious or political groups\n",
      "* ORDINAL: \"first\", \"second\", etc.\n",
      "* ORG: Companies, agencies, institutions, etc.\n",
      "* PERCENT: Percentage, including \"%\"\n",
      "* PERSON: People, including fictional\n",
      "* PRODUCT: Objects, vehicles, foods, etc. (not services)\n",
      "* QUANTITY: Measurements, as of weight or distance\n",
      "* TIME: Times smaller than a day\n",
      "* WORK_OF_ART: Titles of books, songs, etc.\n"
     ]
    }
   ],
   "source": [
    "# list of ner labels\n",
    "for ner_label in NER.get_pipe('ner').labels:\n",
    "    print(f\"* {ner_label}: {spacy.explain(ner_label)}\")"
   ]
  },
  {
   "cell_type": "code",
   "execution_count": 8,
   "id": "c6ca3b6e",
   "metadata": {},
   "outputs": [
    {
     "data": {
      "text/html": [
       "<span class=\"tex2jax_ignore\"><div class=\"entities\" style=\"line-height: 2.5; direction: ltr\">\n",
       "<mark class=\"entity\" style=\"background: #bfeeb7; padding: 0.45em 0.6em; margin: 0 0.25em; line-height: 1; border-radius: 0.35em;\">\n",
       "    The Mars Orbiter Mission (MOM\n",
       "    <span style=\"font-size: 0.8em; font-weight: bold; line-height: 1; border-radius: 0.35em; vertical-align: middle; margin-left: 0.5rem\">PRODUCT</span>\n",
       "</mark>\n",
       "), informally known as \n",
       "<mark class=\"entity\" style=\"background: #aa9cfc; padding: 0.45em 0.6em; margin: 0 0.25em; line-height: 1; border-radius: 0.35em;\">\n",
       "    Mangalyaan\n",
       "    <span style=\"font-size: 0.8em; font-weight: bold; line-height: 1; border-radius: 0.35em; vertical-align: middle; margin-left: 0.5rem\">PERSON</span>\n",
       "</mark>\n",
       ",     was launched into \n",
       "<mark class=\"entity\" style=\"background: #ff9561; padding: 0.45em 0.6em; margin: 0 0.25em; line-height: 1; border-radius: 0.35em;\">\n",
       "    Earth\n",
       "    <span style=\"font-size: 0.8em; font-weight: bold; line-height: 1; border-radius: 0.35em; vertical-align: middle; margin-left: 0.5rem\">LOC</span>\n",
       "</mark>\n",
       " orbit on \n",
       "<mark class=\"entity\" style=\"background: #bfe1d9; padding: 0.45em 0.6em; margin: 0 0.25em; line-height: 1; border-radius: 0.35em;\">\n",
       "    5 November 2013\n",
       "    <span style=\"font-size: 0.8em; font-weight: bold; line-height: 1; border-radius: 0.35em; vertical-align: middle; margin-left: 0.5rem\">DATE</span>\n",
       "</mark>\n",
       " by \n",
       "<mark class=\"entity\" style=\"background: #7aecec; padding: 0.45em 0.6em; margin: 0 0.25em; line-height: 1; border-radius: 0.35em;\">\n",
       "    the Indian Space Research Organisation\n",
       "    <span style=\"font-size: 0.8em; font-weight: bold; line-height: 1; border-radius: 0.35em; vertical-align: middle; margin-left: 0.5rem\">ORG</span>\n",
       "</mark>\n",
       " (ISRO)     and has entered \n",
       "<mark class=\"entity\" style=\"background: #ff9561; padding: 0.45em 0.6em; margin: 0 0.25em; line-height: 1; border-radius: 0.35em;\">\n",
       "    Mars\n",
       "    <span style=\"font-size: 0.8em; font-weight: bold; line-height: 1; border-radius: 0.35em; vertical-align: middle; margin-left: 0.5rem\">LOC</span>\n",
       "</mark>\n",
       " orbit on \n",
       "<mark class=\"entity\" style=\"background: #bfe1d9; padding: 0.45em 0.6em; margin: 0 0.25em; line-height: 1; border-radius: 0.35em;\">\n",
       "    24 September 2014\n",
       "    <span style=\"font-size: 0.8em; font-weight: bold; line-height: 1; border-radius: 0.35em; vertical-align: middle; margin-left: 0.5rem\">DATE</span>\n",
       "</mark>\n",
       ". \n",
       "<mark class=\"entity\" style=\"background: #feca74; padding: 0.45em 0.6em; margin: 0 0.25em; line-height: 1; border-radius: 0.35em;\">\n",
       "    India\n",
       "    <span style=\"font-size: 0.8em; font-weight: bold; line-height: 1; border-radius: 0.35em; vertical-align: middle; margin-left: 0.5rem\">GPE</span>\n",
       "</mark>\n",
       " thus became the \n",
       "<mark class=\"entity\" style=\"background: #e4e7d2; padding: 0.45em 0.6em; margin: 0 0.25em; line-height: 1; border-radius: 0.35em;\">\n",
       "    first\n",
       "    <span style=\"font-size: 0.8em; font-weight: bold; line-height: 1; border-radius: 0.35em; vertical-align: middle; margin-left: 0.5rem\">ORDINAL</span>\n",
       "</mark>\n",
       " country to enter     \n",
       "<mark class=\"entity\" style=\"background: #ff9561; padding: 0.45em 0.6em; margin: 0 0.25em; line-height: 1; border-radius: 0.35em;\">\n",
       "    Mars\n",
       "    <span style=\"font-size: 0.8em; font-weight: bold; line-height: 1; border-radius: 0.35em; vertical-align: middle; margin-left: 0.5rem\">LOC</span>\n",
       "</mark>\n",
       " orbit on its first attempt. It was completed at a record low cost of \n",
       "<mark class=\"entity\" style=\"background: #e4e7d2; padding: 0.45em 0.6em; margin: 0 0.25em; line-height: 1; border-radius: 0.35em;\">\n",
       "    $74 million\n",
       "    <span style=\"font-size: 0.8em; font-weight: bold; line-height: 1; border-radius: 0.35em; vertical-align: middle; margin-left: 0.5rem\">MONEY</span>\n",
       "</mark>\n",
       ".</div></span>"
      ],
      "text/plain": [
       "<IPython.core.display.HTML object>"
      ]
     },
     "metadata": {},
     "output_type": "display_data"
    }
   ],
   "source": [
    "displacy.render(text,style=\"ent\",jupyter=True)"
   ]
  },
  {
   "cell_type": "markdown",
   "id": "0a5e2c77",
   "metadata": {},
   "source": [
    "# another example"
   ]
  },
  {
   "cell_type": "code",
   "execution_count": 49,
   "id": "ad57aebf",
   "metadata": {},
   "outputs": [],
   "source": [
    "# function to display basic entity info: \n",
    "def show_ents(doc):\n",
    "    print(f\"original doc: {doc.text}\")\n",
    "    if doc.ents: \n",
    "        for ent in doc.ents: \n",
    "            print(f\"entity: {ent.text : >13} | start_char: {ent.start_char: 3} | end_char: {ent.end_char: 3} | label: {ent.label_} - {spacy.explain(ent.label_)}\")\n",
    "            # print(ent.label)  # entity type's hash value\n",
    "            # print(ent.start)  # token span's start index position (word index)\n",
    "            # print(ent.end)  # token span's stop index position (word index)\n",
    "    else: print('No named entities found.')"
   ]
  },
  {
   "cell_type": "code",
   "execution_count": 50,
   "id": "69e17341",
   "metadata": {},
   "outputs": [
    {
     "name": "stdout",
     "output_type": "stream",
     "text": [
      "original doc: Apple is looking at buying U.K. startup for $1 billion\n",
      "entity:         Apple | start_char:   0 | end_char:   5 | label: ORG - Companies, agencies, institutions, etc.\n",
      "entity:          U.K. | start_char:  27 | end_char:  31 | label: GPE - Countries, cities, states\n",
      "entity:    $1 billion | start_char:  44 | end_char:  54 | label: MONEY - Monetary values, including unit\n"
     ]
    }
   ],
   "source": [
    "doc1 = NER(\"Apple is looking at buying U.K. startup for $1 billion\") \n",
    "show_ents(doc1)"
   ]
  },
  {
   "cell_type": "markdown",
   "id": "4bc0a97a",
   "metadata": {},
   "source": [
    "## document level"
   ]
  },
  {
   "cell_type": "code",
   "execution_count": 51,
   "id": "0de6fc5d",
   "metadata": {},
   "outputs": [
    {
     "name": "stdout",
     "output_type": "stream",
     "text": [
      "San Francisco 0 13 GPE\n",
      "[('San Francisco', 0, 13, 'GPE')]\n"
     ]
    }
   ],
   "source": [
    "doc = NER(\"San Francisco considers banning sidewalk delivery robots\") \n",
    "# document level \n",
    "for e in doc.ents: \n",
    "    print(e.text, e.start_char, e.end_char, e.label_) \n",
    "\n",
    "# OR \n",
    "ents = [(e.text, e.start_char, e.end_char, e.label_) for e in doc.ents] \n",
    "print(ents)"
   ]
  },
  {
   "cell_type": "markdown",
   "id": "80a153d9",
   "metadata": {},
   "source": [
    "## token level"
   ]
  },
  {
   "cell_type": "code",
   "execution_count": 52,
   "id": "b41c0af1",
   "metadata": {},
   "outputs": [
    {
     "name": "stdout",
     "output_type": "stream",
     "text": [
      "['San', 'B', 'GPE']\n",
      "['Francisco', 'I', 'GPE']\n",
      "['considers', 'O', '']\n"
     ]
    }
   ],
   "source": [
    "# token level \n",
    "# doc[0], doc[1] ...will have tokens stored. \n",
    "\n",
    "ent_san = [doc[0].text, doc[0].ent_iob_, doc[0].ent_type_] \n",
    "ent_francisco = [doc[1].text, doc[1].ent_iob_, doc[1].ent_type_]\n",
    "ent_considers = [doc[2].text, doc[2].ent_iob_, doc[2].ent_type_] \n",
    "print(ent_san) \n",
    "print(ent_francisco)\n",
    "print(ent_considers)\n",
    "\n",
    "# token.ent_iob indicates whether an entity starts continues or ends on the tag\n",
    "# I - Token is inside an entity. \n",
    "# O - Token is outside an entity. \n",
    "# B - Token is the beginning of an entity."
   ]
  },
  {
   "cell_type": "markdown",
   "id": "a944f56c",
   "metadata": {},
   "source": [
    "## User-Defined Named Entity and Adding it to a Span"
   ]
  },
  {
   "cell_type": "markdown",
   "id": "8ccf43d5",
   "metadata": {},
   "source": [
    "### Example 1"
   ]
  },
  {
   "cell_type": "code",
   "execution_count": 53,
   "id": "2c79f31d",
   "metadata": {},
   "outputs": [
    {
     "name": "stdout",
     "output_type": "stream",
     "text": [
      "original doc: Tesla to build a U.K. factory for $6 million.\n",
      "entity:          U.K. | start_char:  17 | end_char:  21 | label: GPE - Countries, cities, states\n",
      "entity:    $6 million | start_char:  34 | end_char:  44 | label: MONEY - Monetary values, including unit\n"
     ]
    }
   ],
   "source": [
    "doc = NER(u'Tesla to build a U.K. factory for $6 million.')\n",
    "show_ents(doc)"
   ]
  },
  {
   "cell_type": "code",
   "execution_count": 54,
   "id": "775dfa9e",
   "metadata": {},
   "outputs": [],
   "source": [
    "from spacy.tokens import Span"
   ]
  },
  {
   "cell_type": "code",
   "execution_count": 55,
   "id": "d06038c7",
   "metadata": {},
   "outputs": [
    {
     "name": "stdout",
     "output_type": "stream",
     "text": [
      "383\n",
      "Tesla\n",
      "(Tesla, U.K., $6 million)\n"
     ]
    }
   ],
   "source": [
    "# get the hash value of the ORG entity label\n",
    "ORG = doc.vocab.strings[u\"ORG\"]\n",
    "print(ORG)\n",
    "\n",
    "# create a span for the new entity\n",
    "new_ent = Span(doc=doc, start=0, end=1, label=ORG)\n",
    "print(new_ent)\n",
    "\n",
    "# add the entity to the existing doc object\n",
    "doc.ents = list(doc.ents) + [new_ent]\n",
    "print(doc.ents)"
   ]
  },
  {
   "cell_type": "code",
   "execution_count": 56,
   "id": "95be3f1d",
   "metadata": {},
   "outputs": [
    {
     "name": "stdout",
     "output_type": "stream",
     "text": [
      "original doc: Tesla to build a U.K. factory for $6 million.\n",
      "entity:         Tesla | start_char:   0 | end_char:   5 | label: ORG - Companies, agencies, institutions, etc.\n",
      "entity:          U.K. | start_char:  17 | end_char:  21 | label: GPE - Countries, cities, states\n",
      "entity:    $6 million | start_char:  34 | end_char:  44 | label: MONEY - Monetary values, including unit\n"
     ]
    }
   ],
   "source": [
    "show_ents(doc)"
   ]
  },
  {
   "cell_type": "markdown",
   "id": "e8230700",
   "metadata": {},
   "source": [
    "## Adding Named Entities to All Matching Spans"
   ]
  },
  {
   "cell_type": "code",
   "execution_count": 57,
   "id": "c982493a",
   "metadata": {},
   "outputs": [
    {
     "name": "stdout",
     "output_type": "stream",
     "text": [
      "original doc: Our company plans to introduce a new vacuum cleaner. If successful, the vacuum cleaner will be our first product.\n",
      "entity:         first | start_char:  99 | end_char:  104 | label: ORDINAL - \"first\", \"second\", etc.\n"
     ]
    }
   ],
   "source": [
    "doc = NER(u'Our company plans to introduce a new vacuum cleaner. If successful, the vacuum cleaner will be our first product.') \n",
    "show_ents(doc) "
   ]
  },
  {
   "cell_type": "code",
   "execution_count": 58,
   "id": "4c2c1127",
   "metadata": {},
   "outputs": [],
   "source": [
    "# Import PhraseMatcher and create a matcher object: \n",
    "from spacy.matcher import PhraseMatcher \n",
    "matcher = PhraseMatcher(NER.vocab)"
   ]
  },
  {
   "cell_type": "code",
   "execution_count": 59,
   "id": "471a15ab",
   "metadata": {},
   "outputs": [
    {
     "name": "stdout",
     "output_type": "stream",
     "text": [
      "['vacuum cleaner', 'vacuum-cleaner']\n",
      "[vacuum cleaner, vacuum-cleaner]\n"
     ]
    }
   ],
   "source": [
    "# Create the desired phrase patterns:\n",
    "phrase_list = ['vacuum cleaner', 'vacuum-cleaner']\n",
    "phrase_patterns = [NER(text) for text in phrase_list]\n",
    "print(phrase_list)\n",
    "print(phrase_patterns)"
   ]
  },
  {
   "cell_type": "code",
   "execution_count": 60,
   "id": "16d50544",
   "metadata": {},
   "outputs": [],
   "source": [
    "# Apply the patterns to our matcher object:\n",
    "matcher.add('newproduct', None, *phrase_patterns)"
   ]
  },
  {
   "cell_type": "code",
   "execution_count": 61,
   "id": "83ee5292",
   "metadata": {},
   "outputs": [
    {
     "data": {
      "text/plain": [
       "[(2689272359382549672, 7, 9), (2689272359382549672, 14, 16)]"
      ]
     },
     "execution_count": 61,
     "metadata": {},
     "output_type": "execute_result"
    }
   ],
   "source": [
    "# Apply the matcher to our Doc object:\n",
    "matches = matcher(doc)\n",
    "#See what matches occur: \n",
    "matches "
   ]
  },
  {
   "cell_type": "code",
   "execution_count": 62,
   "id": "6c10ab97",
   "metadata": {},
   "outputs": [
    {
     "data": {
      "text/plain": [
       "[vacuum cleaner, vacuum cleaner]"
      ]
     },
     "execution_count": 62,
     "metadata": {},
     "output_type": "execute_result"
    }
   ],
   "source": [
    "# Here we create Spans from each match, and create named entities from them: \n",
    "from spacy.tokens import Span \n",
    "PROD = doc.vocab.strings[u'PRODUCT'] \n",
    "new_ents = [Span(doc, match[1], match[2],label=PROD) for match in matches]\n",
    "new_ents"
   ]
  },
  {
   "cell_type": "code",
   "execution_count": 63,
   "id": "2fe73ef1",
   "metadata": {},
   "outputs": [
    {
     "name": "stdout",
     "output_type": "stream",
     "text": [
      "original doc: Our company plans to introduce a new vacuum cleaner. If successful, the vacuum cleaner will be our first product.\n",
      "entity: vacuum cleaner | start_char:  37 | end_char:  51 | label: PRODUCT - Objects, vehicles, foods, etc. (not services)\n",
      "entity: vacuum cleaner | start_char:  72 | end_char:  86 | label: PRODUCT - Objects, vehicles, foods, etc. (not services)\n",
      "entity:         first | start_char:  99 | end_char:  104 | label: ORDINAL - \"first\", \"second\", etc.\n"
     ]
    }
   ],
   "source": [
    "# match[1] contains the start index of the the token and match[2] the stop index (exclusive) of the token in the doc. \n",
    "doc.ents = list(doc.ents) + new_ents \n",
    "show_ents(doc)"
   ]
  },
  {
   "cell_type": "markdown",
   "id": "24a8983d",
   "metadata": {},
   "source": [
    "## counting entities"
   ]
  },
  {
   "cell_type": "code",
   "execution_count": 64,
   "id": "c66440d4",
   "metadata": {},
   "outputs": [
    {
     "name": "stdout",
     "output_type": "stream",
     "text": [
      "original doc: originally priced at $29.50, now it's marked down to five dollars\n",
      "entity:         29.50 | start_char:  22 | end_char:  27 | label: MONEY - Monetary values, including unit\n",
      "entity:  five dollars | start_char:  53 | end_char:  65 | label: MONEY - Monetary values, including unit\n"
     ]
    }
   ],
   "source": [
    "doc = NER(u\"originally priced at $29.50, now it's marked down to five dollars\")\n",
    "show_ents(doc)"
   ]
  },
  {
   "cell_type": "code",
   "execution_count": 65,
   "id": "956975a6",
   "metadata": {},
   "outputs": [
    {
     "data": {
      "text/plain": [
       "2"
      ]
     },
     "execution_count": 65,
     "metadata": {},
     "output_type": "execute_result"
    }
   ],
   "source": [
    "len([ent for ent in doc.ents if ent.label_ == \"MONEY\"])"
   ]
  },
  {
   "cell_type": "markdown",
   "id": "c517f785",
   "metadata": {},
   "source": [
    "## Visualizing NER"
   ]
  },
  {
   "cell_type": "code",
   "execution_count": null,
   "id": "f12bae8f",
   "metadata": {},
   "outputs": [],
   "source": [
    "from spacy import displacy"
   ]
  },
  {
   "cell_type": "code",
   "execution_count": 72,
   "id": "7c0f6b31",
   "metadata": {},
   "outputs": [
    {
     "data": {
      "text/html": [
       "<span class=\"tex2jax_ignore\"><div class=\"entities\" style=\"line-height: 2.5; direction: ltr\">Tesla to build a \n",
       "<mark class=\"entity\" style=\"background: #feca74; padding: 0.45em 0.6em; margin: 0 0.25em; line-height: 1; border-radius: 0.35em;\">\n",
       "    U.K.\n",
       "    <span style=\"font-size: 0.8em; font-weight: bold; line-height: 1; border-radius: 0.35em; vertical-align: middle; margin-left: 0.5rem\">GPE</span>\n",
       "</mark>\n",
       " factory for \n",
       "<mark class=\"entity\" style=\"background: #e4e7d2; padding: 0.45em 0.6em; margin: 0 0.25em; line-height: 1; border-radius: 0.35em;\">\n",
       "    $6 million\n",
       "    <span style=\"font-size: 0.8em; font-weight: bold; line-height: 1; border-radius: 0.35em; vertical-align: middle; margin-left: 0.5rem\">MONEY</span>\n",
       "</mark>\n",
       ". originally priced at $\n",
       "<mark class=\"entity\" style=\"background: #e4e7d2; padding: 0.45em 0.6em; margin: 0 0.25em; line-height: 1; border-radius: 0.35em;\">\n",
       "    29.50\n",
       "    <span style=\"font-size: 0.8em; font-weight: bold; line-height: 1; border-radius: 0.35em; vertical-align: middle; margin-left: 0.5rem\">MONEY</span>\n",
       "</mark>\n",
       ", now it's marked down to \n",
       "<mark class=\"entity\" style=\"background: #e4e7d2; padding: 0.45em 0.6em; margin: 0 0.25em; line-height: 1; border-radius: 0.35em;\">\n",
       "    five dollars\n",
       "    <span style=\"font-size: 0.8em; font-weight: bold; line-height: 1; border-radius: 0.35em; vertical-align: middle; margin-left: 0.5rem\">MONEY</span>\n",
       "</mark>\n",
       "</div></span>"
      ],
      "text/plain": [
       "<IPython.core.display.HTML object>"
      ]
     },
     "metadata": {},
     "output_type": "display_data"
    }
   ],
   "source": [
    "doc = NER(u\"Tesla to build a U.K. factory for $6 million. \"\n",
    "          u\"originally priced at $29.50, now it's marked down to five dollars\")\n",
    "displacy.render(doc, style=\"ent\", jupyter=True)\n"
   ]
  },
  {
   "cell_type": "code",
   "execution_count": 74,
   "id": "b9882088",
   "metadata": {},
   "outputs": [
    {
     "data": {
      "text/html": [
       "<span class=\"tex2jax_ignore\"><div class=\"entities\" style=\"line-height: 2.5; direction: ltr\">Tesla to build a \n",
       "<mark class=\"entity\" style=\"background: #feca74; padding: 0.45em 0.6em; margin: 0 0.25em; line-height: 1; border-radius: 0.35em;\">\n",
       "    U.K.\n",
       "    <span style=\"font-size: 0.8em; font-weight: bold; line-height: 1; border-radius: 0.35em; vertical-align: middle; margin-left: 0.5rem\">GPE</span>\n",
       "</mark>\n",
       " factory for \n",
       "<mark class=\"entity\" style=\"background: #e4e7d2; padding: 0.45em 0.6em; margin: 0 0.25em; line-height: 1; border-radius: 0.35em;\">\n",
       "    $6 million\n",
       "    <span style=\"font-size: 0.8em; font-weight: bold; line-height: 1; border-radius: 0.35em; vertical-align: middle; margin-left: 0.5rem\">MONEY</span>\n",
       "</mark>\n",
       ". </div></span>"
      ],
      "text/plain": [
       "<IPython.core.display.HTML object>"
      ]
     },
     "metadata": {},
     "output_type": "display_data"
    },
    {
     "data": {
      "text/html": [
       "<span class=\"tex2jax_ignore\"><div class=\"entities\" style=\"line-height: 2.5; direction: ltr\">originally priced at $\n",
       "<mark class=\"entity\" style=\"background: #e4e7d2; padding: 0.45em 0.6em; margin: 0 0.25em; line-height: 1; border-radius: 0.35em;\">\n",
       "    29.50\n",
       "    <span style=\"font-size: 0.8em; font-weight: bold; line-height: 1; border-radius: 0.35em; vertical-align: middle; margin-left: 0.5rem\">MONEY</span>\n",
       "</mark>\n",
       ", now it's marked down to \n",
       "<mark class=\"entity\" style=\"background: #e4e7d2; padding: 0.45em 0.6em; margin: 0 0.25em; line-height: 1; border-radius: 0.35em;\">\n",
       "    five dollars\n",
       "    <span style=\"font-size: 0.8em; font-weight: bold; line-height: 1; border-radius: 0.35em; vertical-align: middle; margin-left: 0.5rem\">MONEY</span>\n",
       "</mark>\n",
       "</div></span>"
      ],
      "text/plain": [
       "<IPython.core.display.HTML object>"
      ]
     },
     "metadata": {},
     "output_type": "display_data"
    }
   ],
   "source": [
    "# line by line\n",
    "for sent in doc.sents:\n",
    "    displacy.render(sent, style=\"ent\", jupyter=True)"
   ]
  },
  {
   "cell_type": "code",
   "execution_count": 79,
   "id": "301a8169",
   "metadata": {},
   "outputs": [
    {
     "data": {
      "text/html": [
       "<span class=\"tex2jax_ignore\"><div class=\"entities\" style=\"line-height: 2.5; direction: ltr\">Tesla to build a U.K. factory for \n",
       "<mark class=\"entity\" style=\"background: #e4e7d2; padding: 0.45em 0.6em; margin: 0 0.25em; line-height: 1; border-radius: 0.35em;\">\n",
       "    $6 million\n",
       "    <span style=\"font-size: 0.8em; font-weight: bold; line-height: 1; border-radius: 0.35em; vertical-align: middle; margin-left: 0.5rem\">MONEY</span>\n",
       "</mark>\n",
       ". originally priced at $\n",
       "<mark class=\"entity\" style=\"background: #e4e7d2; padding: 0.45em 0.6em; margin: 0 0.25em; line-height: 1; border-radius: 0.35em;\">\n",
       "    29.50\n",
       "    <span style=\"font-size: 0.8em; font-weight: bold; line-height: 1; border-radius: 0.35em; vertical-align: middle; margin-left: 0.5rem\">MONEY</span>\n",
       "</mark>\n",
       ", now it's marked down to \n",
       "<mark class=\"entity\" style=\"background: #e4e7d2; padding: 0.45em 0.6em; margin: 0 0.25em; line-height: 1; border-radius: 0.35em;\">\n",
       "    five dollars\n",
       "    <span style=\"font-size: 0.8em; font-weight: bold; line-height: 1; border-radius: 0.35em; vertical-align: middle; margin-left: 0.5rem\">MONEY</span>\n",
       "</mark>\n",
       "</div></span>"
      ],
      "text/plain": [
       "<IPython.core.display.HTML object>"
      ]
     },
     "metadata": {},
     "output_type": "display_data"
    }
   ],
   "source": [
    "# viewing specific entries\n",
    "options = {\"ents\": [\"MONEY\"]}\n",
    "displacy.render(doc, style=\"ent\", jupyter=True, options = options)"
   ]
  }
 ],
 "metadata": {
  "interpreter": {
   "hash": "6235329e4e80563f0f629f7d03bff3ed38888b52eb6adc0ce82f2c2e907be760"
  },
  "kernelspec": {
   "display_name": "Python 3",
   "language": "python",
   "name": "python3"
  },
  "language_info": {
   "codemirror_mode": {
    "name": "ipython",
    "version": 3
   },
   "file_extension": ".py",
   "mimetype": "text/x-python",
   "name": "python",
   "nbconvert_exporter": "python",
   "pygments_lexer": "ipython3",
   "version": "3.8.8"
  }
 },
 "nbformat": 4,
 "nbformat_minor": 5
}
