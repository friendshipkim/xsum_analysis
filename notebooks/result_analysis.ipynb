{
 "cells": [
  {
   "cell_type": "markdown",
   "id": "5c046f68",
   "metadata": {},
   "source": [
    "# load dataset"
   ]
  },
  {
   "cell_type": "code",
   "execution_count": 1,
   "id": "a52e3809",
   "metadata": {},
   "outputs": [],
   "source": [
    "import datasets\n",
    "from xsum_dataset import XsumDataset"
   ]
  },
  {
   "cell_type": "code",
   "execution_count": 2,
   "id": "382259b1",
   "metadata": {},
   "outputs": [
    {
     "name": "stderr",
     "output_type": "stream",
     "text": [
      "Using custom data configuration default\n",
      "Reusing dataset xsum (/home/wk247/.cache/huggingface/datasets/xsum/default/1.2.0/32c23220eadddb1149b16ed2e9430a05293768cfffbdfd151058697d4c11f934)\n"
     ]
    },
    {
     "data": {
      "application/vnd.jupyter.widget-view+json": {
       "model_id": "16172f00f8fb4fbc979b930f31366f65",
       "version_major": 2,
       "version_minor": 0
      },
      "text/plain": [
       "  0%|          | 0/3 [00:00<?, ?it/s]"
      ]
     },
     "metadata": {},
     "output_type": "display_data"
    }
   ],
   "source": [
    "xsum_data_raw = datasets.load_dataset(\"xsum\")"
   ]
  },
  {
   "cell_type": "code",
   "execution_count": 3,
   "id": "f7037c38",
   "metadata": {},
   "outputs": [],
   "source": [
    "# train/val/test data\n",
    "# xsum_train_data = XsumDataset(xsum_data_raw[\"train\"])\n",
    "xsum_val_data = XsumDataset(xsum_data_raw[\"validation\"])\n",
    "xsum_test_data = XsumDataset(xsum_data_raw[\"test\"])"
   ]
  },
  {
   "cell_type": "markdown",
   "id": "ceb3e530",
   "metadata": {},
   "source": [
    "# load log probs"
   ]
  },
  {
   "cell_type": "code",
   "execution_count": 4,
   "id": "c72590ed",
   "metadata": {},
   "outputs": [],
   "source": [
    "import config as cfg\n",
    "from utils import load_from_cache_dir, save_to_cache_dir, calculate_KL\n",
    "from os.path import join"
   ]
  },
  {
   "cell_type": "code",
   "execution_count": 5,
   "id": "fd5c08a8",
   "metadata": {},
   "outputs": [],
   "source": [
    "gen_method = \"beam\"\n",
    "num_seqs = 30"
   ]
  },
  {
   "cell_type": "code",
   "execution_count": 7,
   "id": "69207c10",
   "metadata": {},
   "outputs": [],
   "source": [
    "insert_num_options = cfg.insert_num_options\n",
    "insert_1_options = cfg.insert_1_options\n",
    "insert_2_options = cfg.insert_2_options"
   ]
  },
  {
   "cell_type": "code",
   "execution_count": 8,
   "id": "84512df1",
   "metadata": {},
   "outputs": [],
   "source": [
    "log_probs_cache_dir = join(cfg.log_probs_dir, f\"{gen_method}_{num_seqs}\")"
   ]
  },
  {
   "cell_type": "code",
   "execution_count": 9,
   "id": "2a136570",
   "metadata": {},
   "outputs": [
    {
     "name": "stdout",
     "output_type": "stream",
     "text": [
      "'/home/wk247/workspace/xsum_analysis/cache/log_probs/beam_30/original_log_probs_list.pkl' loaded\n",
      "'/home/wk247/workspace/xsum_analysis/cache/log_probs/beam_30/ptb_log_probs_list_insert_1_random.pkl' loaded\n",
      "'/home/wk247/workspace/xsum_analysis/cache/log_probs/beam_30/ptb_log_probs_list_insert_1_top1.pkl' loaded\n",
      "'/home/wk247/workspace/xsum_analysis/cache/log_probs/beam_30/ptb_log_probs_list_insert_2_random.pkl' loaded\n",
      "'/home/wk247/workspace/xsum_analysis/cache/log_probs/beam_30/ptb_log_probs_list_insert_2_topbottom.pkl' loaded\n",
      "'/home/wk247/workspace/xsum_analysis/cache/log_probs/beam_30/ptb_log_probs_list_insert_2_top2.pkl' loaded\n",
      "'/home/wk247/workspace/xsum_analysis/cache/log_probs/beam_30/ptb_log_probs_list_ner_trf.pkl' loaded\n"
     ]
    }
   ],
   "source": [
    "original_log_probs_list = load_from_cache_dir(\"original_log_probs_list\", log_probs_cache_dir)\n",
    "ptb_log_probs_list_insert_1_random = load_from_cache_dir(\"ptb_log_probs_list_insert_1_random\", log_probs_cache_dir)\n",
    "ptb_log_probs_list_insert_1_top1 = load_from_cache_dir(\"ptb_log_probs_list_insert_1_top1\", log_probs_cache_dir)\n",
    "ptb_log_probs_list_insert_2_random = load_from_cache_dir(\"ptb_log_probs_list_insert_2_random\", log_probs_cache_dir)\n",
    "ptb_log_probs_list_insert_2_topbottom = load_from_cache_dir(\"ptb_log_probs_list_insert_2_topbottom\", log_probs_cache_dir)\n",
    "ptb_log_probs_list_insert_2_top2 = load_from_cache_dir(\"ptb_log_probs_list_insert_2_top2\", log_probs_cache_dir)\n",
    "\n",
    "ptb_log_probs_list_ner = load_from_cache_dir(f\"ptb_log_probs_list_ner_{cfg.ner_tagger}\", log_probs_cache_dir)"
   ]
  },
  {
   "cell_type": "code",
   "execution_count": 10,
   "id": "5d8f8e09",
   "metadata": {},
   "outputs": [
    {
     "data": {
      "text/plain": [
       "True"
      ]
     },
     "execution_count": 10,
     "metadata": {},
     "output_type": "execute_result"
    }
   ],
   "source": [
    "len(original_log_probs_list) == len(ptb_log_probs_list_insert_1_random) \\\n",
    "== len(ptb_log_probs_list_insert_1_top1) == len(ptb_log_probs_list_insert_2_random) \\\n",
    "== len(ptb_log_probs_list_insert_2_topbottom) == len(ptb_log_probs_list_ner)"
   ]
  },
  {
   "cell_type": "markdown",
   "id": "eef4906a",
   "metadata": {},
   "source": [
    "# compute KL"
   ]
  },
  {
   "cell_type": "code",
   "execution_count": 11,
   "id": "436dd2f0",
   "metadata": {},
   "outputs": [],
   "source": [
    "import torch\n",
    "import numpy as np\n",
    "from typing import List"
   ]
  },
  {
   "cell_type": "code",
   "execution_count": 12,
   "id": "b0bfeb1d",
   "metadata": {},
   "outputs": [],
   "source": [
    "insert_1_random_KL = calculate_KL(original_log_probs_list, ptb_log_probs_list_insert_1_random)\n",
    "insert_1_top1_KL = calculate_KL(original_log_probs_list, ptb_log_probs_list_insert_1_top1)\n",
    "insert_2_random_KL = calculate_KL(original_log_probs_list, ptb_log_probs_list_insert_2_random)\n",
    "insert_2_topbottom_KL = calculate_KL(original_log_probs_list, ptb_log_probs_list_insert_2_topbottom)\n",
    "insert_2_top2_KL = calculate_KL(original_log_probs_list, ptb_log_probs_list_insert_2_top2)\n",
    "\n",
    "ner_KL = calculate_KL(original_log_probs_list, ptb_log_probs_list_ner)"
   ]
  },
  {
   "cell_type": "code",
   "execution_count": 13,
   "id": "bff237cd",
   "metadata": {},
   "outputs": [],
   "source": [
    "def get_stats(array):\n",
    "    return np.nanmean(array), np.nanmedian(array), np.nanstd(array)"
   ]
  },
  {
   "cell_type": "code",
   "execution_count": 14,
   "id": "36f0c2d5",
   "metadata": {},
   "outputs": [],
   "source": [
    "insert_1_random_KL_mean, insert_1_random_KL_median, insert_1_random_KL_std = get_stats(insert_1_random_KL)\n",
    "insert_1_top1_KL_mean, insert_1_top1_KL_median, insert_1_top1_KL_std = get_stats(insert_1_top1_KL)\n",
    "insert_2_random_KL_mean, insert_2_random_KL_median, insert_2_random_KL_std = get_stats(insert_2_random_KL)\n",
    "insert_2_top2_KL_mean, insert_2_top2_KL_median, insert_2_top2_KL_std = get_stats(insert_2_top2_KL)\n",
    "insert_2_topbottom_KL_mean, insert_2_topbottom_KL_median, insert_2_topbottom_KL_std = get_stats(insert_2_topbottom_KL)\n",
    "\n",
    "ner_KL_mean, ner_KL_median, ner_KL_std = get_stats(ner_KL)"
   ]
  },
  {
   "cell_type": "markdown",
   "id": "39803db9",
   "metadata": {},
   "source": [
    "* insert 1"
   ]
  },
  {
   "cell_type": "code",
   "execution_count": 15,
   "id": "987e9005",
   "metadata": {},
   "outputs": [
    {
     "name": "stdout",
     "output_type": "stream",
     "text": [
      "insert 1 sentencence into the top of the document mean:5.007, median:4.146, std:3.962\n"
     ]
    }
   ],
   "source": [
    "print(\"insert 1 sentencence into the top of the document \"\\\n",
    "      f\"mean:{insert_1_top1_KL_mean:.3f}, \" \\\n",
    "      f\"median:{insert_1_top1_KL_median:.3f}, \" \\\n",
    "      f\"std:{insert_1_top1_KL_std:.3f}\")"
   ]
  },
  {
   "cell_type": "code",
   "execution_count": 16,
   "id": "80c0c993",
   "metadata": {},
   "outputs": [
    {
     "name": "stdout",
     "output_type": "stream",
     "text": [
      "insert 1 sentencence into the random position of the document mean:2.107, median:0.818, std:3.102\n"
     ]
    }
   ],
   "source": [
    "print(\"insert 1 sentencence into the random position of the document \"\\\n",
    "      f\"mean:{insert_1_random_KL_mean:.3f}, \" \\\n",
    "      f\"median:{insert_1_random_KL_median:.3f}, \" \\\n",
    "      f\"std:{insert_1_random_KL_std:.3f}\")"
   ]
  },
  {
   "cell_type": "markdown",
   "id": "0c692561",
   "metadata": {},
   "source": [
    "* insert 2"
   ]
  },
  {
   "cell_type": "code",
   "execution_count": 17,
   "id": "1a9caa2c",
   "metadata": {},
   "outputs": [
    {
     "name": "stdout",
     "output_type": "stream",
     "text": [
      "insert 2 sentencences into the top and bottom of the document mean:5.704, median:4.726, std:4.387\n"
     ]
    }
   ],
   "source": [
    "print(\"insert 2 sentencences into the top and bottom of the document \"\\\n",
    "      f\"mean:{insert_2_topbottom_KL_mean:.3f}, \" \\\n",
    "      f\"median:{insert_2_topbottom_KL_median:.3f}, \" \\\n",
    "      f\"std:{insert_2_topbottom_KL_std:.3f}\")"
   ]
  },
  {
   "cell_type": "code",
   "execution_count": 18,
   "id": "e22d10d8",
   "metadata": {},
   "outputs": [
    {
     "name": "stdout",
     "output_type": "stream",
     "text": [
      "insert 2 sentencences into the top of the document mean:7.273, median:6.280, std:5.005\n"
     ]
    }
   ],
   "source": [
    "print(\"insert 2 sentencences into the top of the document \"\\\n",
    "      f\"mean:{insert_2_top2_KL_mean:.3f}, \" \\\n",
    "      f\"median:{insert_2_top2_KL_median:.3f}, \" \\\n",
    "      f\"std:{insert_2_top2_KL_std:.3f}\")"
   ]
  },
  {
   "cell_type": "code",
   "execution_count": 19,
   "id": "54043f87",
   "metadata": {},
   "outputs": [
    {
     "name": "stdout",
     "output_type": "stream",
     "text": [
      "insert 2 sentencences into the random positions of the document mean:3.634, median:2.172, std:4.164\n"
     ]
    }
   ],
   "source": [
    "print(\"insert 2 sentencences into the random positions of the document \"\\\n",
    "      f\"mean:{insert_2_random_KL_mean:.3f}, \" \\\n",
    "      f\"median:{insert_2_random_KL_median:.3f}, \" \\\n",
    "      f\"std:{insert_2_random_KL_std:.3f}\")"
   ]
  },
  {
   "cell_type": "markdown",
   "id": "e78aafa6",
   "metadata": {},
   "source": [
    "* ner"
   ]
  },
  {
   "cell_type": "code",
   "execution_count": 20,
   "id": "30e299d3",
   "metadata": {},
   "outputs": [
    {
     "name": "stdout",
     "output_type": "stream",
     "text": [
      "replace named entity of the document mean:7.003, median:5.021, std:6.939\n"
     ]
    }
   ],
   "source": [
    "print(\"replace named entity of the document \"\\\n",
    "      f\"mean:{ner_KL_mean:.3f}, \" \\\n",
    "      f\"median:{ner_KL_median:.3f}, \" \\\n",
    "      f\"std:{ner_KL_std:.3f}\")"
   ]
  },
  {
   "cell_type": "markdown",
   "id": "81dd8b3e",
   "metadata": {},
   "source": [
    "# visualize"
   ]
  },
  {
   "cell_type": "code",
   "execution_count": 21,
   "id": "38a0e67f",
   "metadata": {},
   "outputs": [],
   "source": [
    "import matplotlib.pyplot as plt\n",
    "%matplotlib inline"
   ]
  },
  {
   "cell_type": "code",
   "execution_count": 22,
   "id": "bbb71d79",
   "metadata": {},
   "outputs": [],
   "source": [
    "# Create lists for the plot\n",
    "x_s = ['Insert1_random','Insert1_top', 'Insert2_random', 'Insert2_top', 'Insert2_top_bottom', 'Named_entity']\n",
    "x_pos = np.arange(len(x_s))\n",
    "means = [insert_1_random_KL_mean, \n",
    "         insert_1_top1_KL_mean, \n",
    "         insert_2_random_KL_mean,\n",
    "         insert_2_top2_KL_mean, \n",
    "         insert_2_topbottom_KL_mean, \n",
    "         ner_KL_mean]\n",
    "medians = [insert_1_random_KL_median, \n",
    "           insert_1_top1_KL_median, \n",
    "           insert_2_random_KL_median, \n",
    "           insert_2_top2_KL_median, \n",
    "           insert_2_topbottom_KL_median, \n",
    "           ner_KL_median]\n",
    "stds = [insert_1_random_KL_std, \n",
    "        insert_1_top1_KL_std, \n",
    "        insert_2_random_KL_std, \n",
    "        insert_2_top2_KL_std, \n",
    "        insert_2_topbottom_KL_mean, \n",
    "        ner_KL_std]"
   ]
  },
  {
   "cell_type": "code",
   "execution_count": 25,
   "id": "005784f3",
   "metadata": {},
   "outputs": [
    {
     "data": {
      "image/png": "[encoded data removed]",
      "text/plain": [
       "<Figure size 972x468 with 1 Axes>"
      ]
     },
     "metadata": {
      "needs_background": "light"
     },
     "output_type": "display_data"
    }
   ],
   "source": [
    "# Build the plot\n",
    "fig, ax = plt.subplots()\n",
    "fig.set_size_inches(13.5, 6.5)\n",
    "ax.bar(x_pos, means, yerr=stds, align='center', alpha=0.5, ecolor='black', capsize=20,\n",
    "      color=['green', 'yellow', 'green', 'yellow', 'blue', 'red'])\n",
    "\n",
    "ax.set_ylabel('Mean KL Divergence', fontsize=20)\n",
    "ax.set_xlabel('Perturbation Method', fontsize=20)\n",
    "\n",
    "ax.set_xticks(x_pos)\n",
    "ax.set_xticklabels(x_s, fontsize=16)\n",
    "ax.yaxis.grid(True)\n",
    "plt.ylim(bottom=0)\n",
    "\n",
    "# add median markers\n",
    "plt.plot(x_pos, medians, marker=\"D\", linestyle=\"\", alpha=0.8, color=\"red\", markersize=10)\n",
    "\n",
    "# Save the figure and show\n",
    "plt.tight_layout()\n",
    "plt.savefig('./vis/kl_mean_std.png')\n",
    "plt.show()"
   ]
  },
  {
   "cell_type": "markdown",
   "id": "446b25d6",
   "metadata": {},
   "source": [
    "# groupby ner"
   ]
  },
  {
   "cell_type": "code",
   "execution_count": 27,
   "id": "58e4851e",
   "metadata": {},
   "outputs": [
    {
     "name": "stdout",
     "output_type": "stream",
     "text": [
      "'/home/wk247/workspace/xsum_analysis/cache/ner/trf/val_test_ent_pool_dict.pkl' loaded\n"
     ]
    }
   ],
   "source": [
    "# load ent pool dict\n",
    "ent_pool_dict = load_from_cache_dir(\"val_test_ent_pool_dict\", join(cfg.ner_dir, cfg.ner_tagger))"
   ]
  },
  {
   "cell_type": "code",
   "execution_count": 32,
   "id": "68cc727c",
   "metadata": {},
   "outputs": [
    {
     "name": "stdout",
     "output_type": "stream",
     "text": [
      "'/home/wk247/workspace/xsum_analysis/cache/ptb_docs/ner/ptb_docs_list_trf.pkl' loaded\n"
     ]
    }
   ],
   "source": [
    "# load ner ptb docs list\n",
    "ner_ptb_docs_dir = join(cfg.ptb_docs_dir, \"ner\")\n",
    "ner_ptb_docs_list = load_from_cache_dir(f\"ptb_docs_list_{cfg.ner_tagger}\", ner_ptb_docs_dir)"
   ]
  },
  {
   "cell_type": "markdown",
   "id": "241a7ee0",
   "metadata": {},
   "source": [
    "### check one sample"
   ]
  },
  {
   "cell_type": "code",
   "execution_count": 34,
   "id": "02b8977c",
   "metadata": {},
   "outputs": [],
   "source": [
    "idx = 2"
   ]
  },
  {
   "cell_type": "code",
   "execution_count": 35,
   "id": "d45b2dbf",
   "metadata": {},
   "outputs": [
    {
     "name": "stdout",
     "output_type": "stream",
     "text": [
      "* chosen_ent: Facebook\n",
      "* replace_ent: The Foreign and Commonwealth Office\n",
      "* ptb_document: Jordan Hill, Brittany Covington and Tesfaye Cooper, all 18, and Tanishia Covington, 24, appeared in a Chicago court on Friday.\n",
      "The four have been charged with hate crimes and aggravated kidnapping and battery, among other things.\n",
      "An online fundraiser for their victim has collected $51,000 (Â£42,500) so far.\n",
      "Denying the four suspects bail, Judge Maria Kuriakos Ciesil asked: \"Where was your sense of decency?\"\n",
      "Prosecutors told the court the beating started in a van and continued at a house, where the suspects allegedly forced the 18-year-old white victim, who suffers from schizophrenia and attention deficit disorder, to drink toilet water and kiss the floor.\n",
      "Police allege the van was earlier stolen by Mr Hill, who is also accused of demanding $300 from the victim's mother while they held him captive, according to the Chicago Tribune.\n",
      "The court was also told the suspects stuffed a sock into his mouth, taped his mouth shut and bound his hands with a belt.\n",
      "In a video made for The Foreign and Commonwealth Office Live which was watched millions of times, the assailants can be heard making derogatory statements against white people and Donald Trump.\n",
      "The victim had been dropped off at a McDonalds to meet Mr Hill - who was one of his friends - on 31 December.\n",
      "He was found by a police officer on Tuesday, 3 January, a day after he was reported missing by his parents.\n",
      "Prosecutors say the suspects each face two hate crimes counts, one because of the victim's race and the other because of his disabilities.\n",
      "* ptb_true_summary: Four people accused of kidnapping and torturing a mentally disabled man in a \"racially motivated\" attack streamed on The Foreign and Commonwealth Office have been denied bail.\n"
     ]
    }
   ],
   "source": [
    "print(\"* chosen_ent:\", ner_ptb_docs_list[idx][\"metadata\"][\"chosen_ent\"])\n",
    "print(\"* replace_ent:\", ner_ptb_docs_list[idx][\"metadata\"][\"replace_ent\"])\n",
    "print(\"* ptb_document:\", ner_ptb_docs_list[idx][\"ptb_doc\"])\n",
    "print(\"* ptb_true_summary:\", ner_ptb_docs_list[idx][\"ptb_true_summary\"])"
   ]
  },
  {
   "cell_type": "code",
   "execution_count": 36,
   "id": "1bb557d3",
   "metadata": {},
   "outputs": [
    {
     "data": {
      "text/plain": [
       "9.321927070617676"
      ]
     },
     "execution_count": 36,
     "metadata": {},
     "output_type": "execute_result"
    }
   ],
   "source": [
    "ner_KL[idx]"
   ]
  },
  {
   "cell_type": "markdown",
   "id": "e197dd84",
   "metadata": {},
   "source": [
    "### named entities label stats"
   ]
  },
  {
   "cell_type": "code",
   "execution_count": 38,
   "id": "6ad7ddec",
   "metadata": {},
   "outputs": [
    {
     "data": {
      "text/plain": [
       "{'PERSON': [],\n",
       " 'FAC': [],\n",
       " 'GPE': [],\n",
       " 'NORP': [],\n",
       " 'LOC': [],\n",
       " 'EVENT': [],\n",
       " 'LANGUAGE': [],\n",
       " 'LAW': [],\n",
       " 'ORG': []}"
      ]
     },
     "execution_count": 38,
     "metadata": {},
     "output_type": "execute_result"
    }
   ],
   "source": [
    "KL_dict = {l:[] for l in cfg.filter_labels}\n",
    "KL_dict"
   ]
  },
  {
   "cell_type": "code",
   "execution_count": 39,
   "id": "e99d06ba",
   "metadata": {},
   "outputs": [],
   "source": [
    "for kl, ner_info in zip(ner_KL, ner_ptb_docs_list):\n",
    "    if np.isnan(kl):\n",
    "        continue\n",
    "    label = ner_info[\"metadata\"][\"label\"]\n",
    "    KL_dict[label].append(kl)"
   ]
  },
  {
   "cell_type": "code",
   "execution_count": 40,
   "id": "b561133c",
   "metadata": {},
   "outputs": [],
   "source": [
    "mean_dict = {l: np.mean(KL_dict[l]) for l in cfg.filter_labels}\n",
    "median_dict = {l: np.median(KL_dict[l]) for l in cfg.filter_labels}\n",
    "std_dict = {l: np.std(KL_dict[l]) for l in cfg.filter_labels}"
   ]
  },
  {
   "cell_type": "code",
   "execution_count": 43,
   "id": "e69aa819",
   "metadata": {},
   "outputs": [
    {
     "name": "stdout",
     "output_type": "stream",
     "text": [
      "PERSON: 2347\n",
      "FAC: 2347\n",
      "GPE: 2347\n",
      "NORP: 2347\n",
      "LOC: 2347\n",
      "EVENT: 2347\n",
      "LANGUAGE: 2347\n",
      "LAW: 2347\n",
      "ORG: 2347\n"
     ]
    }
   ],
   "source": [
    "for label in cfg.filter_labels:\n",
    "    print(f\"{label}: {len(KL_dict[l])}\")"
   ]
  },
  {
   "cell_type": "markdown",
   "id": "cc4e6db5",
   "metadata": {},
   "source": [
    "## visualize"
   ]
  },
  {
   "cell_type": "code",
   "execution_count": 44,
   "id": "2200ab61",
   "metadata": {},
   "outputs": [],
   "source": [
    "# Create lists for the plot\n",
    "x_s = cfg.filter_labels\n",
    "x_pos = np.arange(len(x_s))\n",
    "means = list(mean_dict.values())\n",
    "medians = list(median_dict.values())\n",
    "stds = list(std_dict.values())"
   ]
  },
  {
   "cell_type": "code",
   "execution_count": 49,
   "id": "e08e837c",
   "metadata": {},
   "outputs": [
    {
     "data": {
      "image/png": "[encoded data removed]",
      "text/plain": [
       "<Figure size 756x396 with 1 Axes>"
      ]
     },
     "metadata": {
      "needs_background": "light"
     },
     "output_type": "display_data"
    }
   ],
   "source": [
    "# Build the plot\n",
    "fig, ax = plt.subplots()\n",
    "fig.set_size_inches(10.5, 5.5)\n",
    "ax.bar(x_pos, means, yerr=stds, align='center', alpha=0.5, ecolor='black', capsize=10,\n",
    "      color=['black', 'red', 'green', 'yellow', 'blue', 'cyan', 'orange', 'purple', 'navy'])\n",
    "\n",
    "ax.set_ylabel('KL Divergence', fontsize=16)\n",
    "ax.set_xlabel('Replace Named Entity Category', fontsize=16)\n",
    "\n",
    "ax.set_xticks(x_pos)\n",
    "ax.set_xticklabels(x_s, fontsize=14)\n",
    "ax.yaxis.grid(True)\n",
    "plt.ylim(bottom=0)\n",
    "\n",
    "# add median markers\n",
    "plt.plot(x_pos, medians, marker=\"D\", linestyle=\"\", alpha=0.8, color=\"red\", markersize=8)\n",
    "\n",
    "# Save the figure and show\n",
    "plt.tight_layout()\n",
    "plt.savefig('./vis/kl_mean_std_ner.png')\n",
    "plt.show()"
   ]
  },
  {
   "cell_type": "code",
   "execution_count": null,
   "id": "2faeb01c",
   "metadata": {},
   "outputs": [],
   "source": []
  }
 ],
 "metadata": {
  "kernelspec": {
   "display_name": "xsum_analysis",
   "language": "python",
   "name": "xsum_analysis"
  },
  "language_info": {
   "codemirror_mode": {
    "name": "ipython",
    "version": 3
   },
   "file_extension": ".py",
   "mimetype": "text/x-python",
   "name": "python",
   "nbconvert_exporter": "python",
   "pygments_lexer": "ipython3",
   "version": "3.8.13"
  }
 },
 "nbformat": 4,
 "nbformat_minor": 5
}
