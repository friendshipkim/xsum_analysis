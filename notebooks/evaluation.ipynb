{
 "cells": [
  {
   "cell_type": "code",
   "execution_count": 1,
   "id": "237e79fd",
   "metadata": {},
   "outputs": [],
   "source": [
    "import datasets\n",
    "metric = datasets.load_metric('mauve')"
   ]
  },
  {
   "cell_type": "code",
   "execution_count": 2,
   "id": "08ac784f",
   "metadata": {},
   "outputs": [
    {
     "name": "stdout",
     "output_type": "stream",
     "text": [
      "\n",
      "Calculates MAUVE scores between two lists of generated text and reference text.\n",
      "Args:\n",
      "    predictions: list of generated text to score. Each predictions\n",
      "        should be a string with tokens separated by spaces.\n",
      "    references: list of reference for each prediction. Each\n",
      "        reference should be a string with tokens separated by spaces.\n",
      "Optional Args:\n",
      "    num_buckets: the size of the histogram to quantize P and Q. Options: 'auto' (default) or an integer\n",
      "    pca_max_data: the number data points to use for PCA dimensionality reduction prior to clustering. If -1, use all the data. Default -1\n",
      "    kmeans_explained_var: amount of variance of the data to keep in dimensionality reduction by PCA. Default 0.9\n",
      "    kmeans_num_redo: number of times to redo k-means clustering (the best objective is kept). Default 5\n",
      "    kmeans_max_iter: maximum number of k-means iterations. Default 500\n",
      "    featurize_model_name: name of the model from which features are obtained. Default 'gpt2-large' Use one of ['gpt2', 'gpt2-medium', 'gpt2-large', 'gpt2-xl'].\n",
      "    device_id: Device for featurization. Supply a GPU id (e.g. 0 or 3) to use GPU. If no GPU with this id is found, use CPU\n",
      "    max_text_length: maximum number of tokens to consider. Default 1024\n",
      "    divergence_curve_discretization_size: Number of points to consider on the divergence curve. Default 25\n",
      "    mauve_scaling_factor: \"c\" from the paper. Default 5.\n",
      "    verbose: If True (default), print running time updates\n",
      "    seed: random seed to initialize k-means cluster assignments.\n",
      "Returns:\n",
      "    mauve: MAUVE score, a number between 0 and 1. Larger values indicate that P and Q are closer,\n",
      "    frontier_integral: Frontier Integral, a number between 0 and 1. Smaller values indicate that P and Q are closer,\n",
      "    divergence_curve: a numpy.ndarray of shape (m, 2); plot it with matplotlib to view the divergence curve,\n",
      "    p_hist: a discrete distribution, which is a quantized version of the text distribution p_text,\n",
      "    q_hist: same as above, but with q_text.\n",
      "Examples:\n",
      "\n",
      "    >>> # faiss segfaults in doctest for some reason, so the .compute call is not tested with doctest\n",
      "    >>> import datasets\n",
      "    >>> mauve = datasets.load_metric('mauve')\n",
      "    >>> predictions = [\"hello there\", \"general kenobi\"]\n",
      "    >>> references = [\"hello there\", \"general kenobi\"]\n",
      "    >>> out = mauve.compute(predictions=predictions, references=references) # doctest: +SKIP\n",
      "    >>> print(out.mauve) # doctest: +SKIP\n",
      "    1.0\n",
      "\n"
     ]
    }
   ],
   "source": [
    "print(metric.inputs_description)"
   ]
  },
  {
   "cell_type": "code",
   "execution_count": 4,
   "id": "d41d5bc8",
   "metadata": {},
   "outputs": [],
   "source": [
    "predictions = [\"hello there\", \"general kenobi\"]\n",
    "references = [\"hello there\", \"general kenobi\"]"
   ]
  },
  {
   "cell_type": "code",
   "execution_count": 5,
   "id": "6b68cbd3",
   "metadata": {},
   "outputs": [
    {
     "data": {
      "application/vnd.jupyter.widget-view+json": {
       "model_id": "baef4d515e2945d6b7d7777adb1366bf",
       "version_major": 2,
       "version_minor": 0
      },
      "text/plain": [
       "Downloading:   0%|          | 0.00/666 [00:00<?, ?B/s]"
      ]
     },
     "metadata": {},
     "output_type": "display_data"
    },
    {
     "data": {
      "application/vnd.jupyter.widget-view+json": {
       "model_id": "e9fd52e29c7347e68fe83dc6db472892",
       "version_major": 2,
       "version_minor": 0
      },
      "text/plain": [
       "Downloading:   0%|          | 0.00/0.99M [00:00<?, ?B/s]"
      ]
     },
     "metadata": {},
     "output_type": "display_data"
    },
    {
     "data": {
      "application/vnd.jupyter.widget-view+json": {
       "model_id": "532a4291408d4caa898b22313a317b6d",
       "version_major": 2,
       "version_minor": 0
      },
      "text/plain": [
       "Downloading:   0%|          | 0.00/446k [00:00<?, ?B/s]"
      ]
     },
     "metadata": {},
     "output_type": "display_data"
    },
    {
     "data": {
      "application/vnd.jupyter.widget-view+json": {
       "model_id": "1cf00f944af2471b8edc6a61c884aa1d",
       "version_major": 2,
       "version_minor": 0
      },
      "text/plain": [
       "Downloading:   0%|          | 0.00/1.29M [00:00<?, ?B/s]"
      ]
     },
     "metadata": {},
     "output_type": "display_data"
    },
    {
     "name": "stdout",
     "output_type": "stream",
     "text": [
      "Ignored unknown kwarg option direction\n",
      "Ignored unknown kwarg option direction\n"
     ]
    },
    {
     "data": {
      "application/vnd.jupyter.widget-view+json": {
       "model_id": "741bee0058e9430fa2dccc033b9962dd",
       "version_major": 2,
       "version_minor": 0
      },
      "text/plain": [
       "Downloading:   0%|          | 0.00/3.02G [00:00<?, ?B/s]"
      ]
     },
     "metadata": {},
     "output_type": "display_data"
    },
    {
     "data": {
      "application/vnd.jupyter.widget-view+json": {
       "model_id": "9ae5363461364c558cb4b0334175df5d",
       "version_major": 2,
       "version_minor": 0
      },
      "text/plain": [
       "Featurizing p:   0%|          | 0/2 [00:00<?, ?it/s]"
      ]
     },
     "metadata": {},
     "output_type": "display_data"
    },
    {
     "name": "stdout",
     "output_type": "stream",
     "text": [
      "Ignored unknown kwarg option direction\n",
      "Ignored unknown kwarg option direction\n"
     ]
    },
    {
     "data": {
      "application/vnd.jupyter.widget-view+json": {
       "model_id": "5529089c6907422bbc3108bb906cd71c",
       "version_major": 2,
       "version_minor": 0
      },
      "text/plain": [
       "Featurizing q:   0%|          | 0/2 [00:00<?, ?it/s]"
      ]
     },
     "metadata": {},
     "output_type": "display_data"
    },
    {
     "name": "stderr",
     "output_type": "stream",
     "text": [
      "WARNING clustering 4 points to 2 centroids: please provide at least 78 training points\n"
     ]
    },
    {
     "name": "stdout",
     "output_type": "stream",
     "text": [
      "Mauve(P, Q) = 1.0\n"
     ]
    }
   ],
   "source": [
    "# mauve\n",
    "from mauve import compute_mauve\n",
    "out = compute_mauve(p_text=predictions, q_text=references)\n",
    "print(f'Mauve(P, Q) = {out.mauve}')"
   ]
  },
  {
   "cell_type": "code",
   "execution_count": null,
   "id": "139655fb",
   "metadata": {},
   "outputs": [],
   "source": []
  }
 ],
 "metadata": {
  "kernelspec": {
   "display_name": "xsum_analysis",
   "language": "python",
   "name": "xsum_analysis"
  },
  "language_info": {
   "codemirror_mode": {
    "name": "ipython",
    "version": 3
   },
   "file_extension": ".py",
   "mimetype": "text/x-python",
   "name": "python",
   "nbconvert_exporter": "python",
   "pygments_lexer": "ipython3",
   "version": "3.8.13"
  }
 },
 "nbformat": 4,
 "nbformat_minor": 5
}
