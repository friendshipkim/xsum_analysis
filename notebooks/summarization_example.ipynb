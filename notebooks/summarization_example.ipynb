{
 "cells": [
  {
   "cell_type": "markdown",
   "id": "a18bb6e6",
   "metadata": {},
   "source": [
    "huggingface summarization example:\n",
    "https://github.com/huggingface/notebooks/blob/main/examples/summarization.ipynb"
   ]
  },
  {
   "cell_type": "markdown",
   "id": "f38dcdb9",
   "metadata": {},
   "source": [
    "## load dataset\n",
    "---"
   ]
  },
  {
   "cell_type": "code",
   "execution_count": 4,
   "id": "f9d1b22e",
   "metadata": {},
   "outputs": [
    {
     "name": "stderr",
     "output_type": "stream",
     "text": [
      "Using custom data configuration default\n",
      "Reusing dataset xsum (/home/wk247/.cache/huggingface/datasets/xsum/default/1.2.0/32c23220eadddb1149b16ed2e9430a05293768cfffbdfd151058697d4c11f934)\n"
     ]
    },
    {
     "data": {
      "application/vnd.jupyter.widget-view+json": {
       "model_id": "78fd229da54a4d28b7e350415e430858",
       "version_major": 2,
       "version_minor": 0
      },
      "text/plain": [
       "  0%|          | 0/3 [00:00<?, ?it/s]"
      ]
     },
     "metadata": {},
     "output_type": "display_data"
    },
    {
     "data": {
      "application/vnd.jupyter.widget-view+json": {
       "model_id": "1f3bb32859444a7aa4642aeb0c3820d1",
       "version_major": 2,
       "version_minor": 0
      },
      "text/plain": [
       "Downloading:   0%|          | 0.00/2.17k [00:00<?, ?B/s]"
      ]
     },
     "metadata": {},
     "output_type": "display_data"
    }
   ],
   "source": [
    "from datasets import load_dataset, load_metric\n",
    "\n",
    "raw_datasets = load_dataset(\"xsum\")\n",
    "metric = load_metric(\"rouge\")"
   ]
  },
  {
   "cell_type": "code",
   "execution_count": 5,
   "id": "47f28592",
   "metadata": {},
   "outputs": [
    {
     "data": {
      "text/plain": [
       "DatasetDict({\n",
       "    train: Dataset({\n",
       "        features: ['document', 'summary', 'id'],\n",
       "        num_rows: 204045\n",
       "    })\n",
       "    validation: Dataset({\n",
       "        features: ['document', 'summary', 'id'],\n",
       "        num_rows: 11332\n",
       "    })\n",
       "    test: Dataset({\n",
       "        features: ['document', 'summary', 'id'],\n",
       "        num_rows: 11334\n",
       "    })\n",
       "})"
      ]
     },
     "execution_count": 5,
     "metadata": {},
     "output_type": "execute_result"
    }
   ],
   "source": [
    "raw_datasets"
   ]
  },
  {
   "cell_type": "code",
   "execution_count": 7,
   "id": "ad12ac9e",
   "metadata": {},
   "outputs": [
    {
     "data": {
      "text/plain": [
       "{'document': 'The full cost of damage in Newton Stewart, one of the areas worst affected, is still being assessed.\\nRepair work is ongoing in Hawick and many roads in Peeblesshire remain badly affected by standing water.\\nTrains on the west coast mainline face disruption due to damage at the Lamington Viaduct.\\nMany businesses and householders were affected by flooding in Newton Stewart after the River Cree overflowed into the town.\\nFirst Minister Nicola Sturgeon visited the area to inspect the damage.\\nThe waters breached a retaining wall, flooding many commercial properties on Victoria Street - the main shopping thoroughfare.\\nJeanette Tate, who owns the Cinnamon Cafe which was badly affected, said she could not fault the multi-agency response once the flood hit.\\nHowever, she said more preventative work could have been carried out to ensure the retaining wall did not fail.\\n\"It is difficult but I do think there is so much publicity for Dumfries and the Nith - and I totally appreciate that - but it is almost like we\\'re neglected or forgotten,\" she said.\\n\"That may not be true but it is perhaps my perspective over the last few days.\\n\"Why were you not ready to help us a bit more when the warning and the alarm alerts had gone out?\"\\nMeanwhile, a flood alert remains in place across the Borders because of the constant rain.\\nPeebles was badly hit by problems, sparking calls to introduce more defences in the area.\\nScottish Borders Council has put a list on its website of the roads worst affected and drivers have been urged not to ignore closure signs.\\nThe Labour Party\\'s deputy Scottish leader Alex Rowley was in Hawick on Monday to see the situation first hand.\\nHe said it was important to get the flood protection plan right but backed calls to speed up the process.\\n\"I was quite taken aback by the amount of damage that has been done,\" he said.\\n\"Obviously it is heart-breaking for people who have been forced out of their homes and the impact on businesses.\"\\nHe said it was important that \"immediate steps\" were taken to protect the areas most vulnerable and a clear timetable put in place for flood prevention plans.\\nHave you been affected by flooding in Dumfries and Galloway or the Borders? Tell us about your experience of the situation and how it was handled. Email us on selkirk.news@bbc.co.uk or dumfries@bbc.co.uk.',\n",
       " 'summary': 'Clean-up operations are continuing across the Scottish Borders and Dumfries and Galloway after flooding caused by Storm Frank.',\n",
       " 'id': '35232142'}"
      ]
     },
     "execution_count": 7,
     "metadata": {},
     "output_type": "execute_result"
    }
   ],
   "source": [
    "raw_datasets[\"train\"][0]"
   ]
  },
  {
   "cell_type": "markdown",
   "id": "cabf736b",
   "metadata": {},
   "source": [
    "## load tokenizer, model\n",
    "---"
   ]
  },
  {
   "cell_type": "code",
   "execution_count": null,
   "id": "d9411104",
   "metadata": {},
   "outputs": [],
   "source": [
    "from transformers import AutoTokenizer, AutoModelForSeq2SeqLM"
   ]
  },
  {
   "cell_type": "code",
   "execution_count": 2,
   "id": "b8e1f532",
   "metadata": {},
   "outputs": [],
   "source": [
    "model_checkpoint = \"google/pegasus-xsum\""
   ]
  },
  {
   "cell_type": "code",
   "execution_count": null,
   "id": "5c96b195",
   "metadata": {},
   "outputs": [],
   "source": [
    "tokenizer = AutoTokenizer.from_pretrained(model_checkpoint)\n",
    "model = AutoModelForSeq2SeqLM.from_pretrained(model_checkpoint)"
   ]
  },
  {
   "cell_type": "markdown",
   "id": "a3c26117",
   "metadata": {},
   "source": [
    "## preprocess data\n",
    "---"
   ]
  },
  {
   "cell_type": "code",
   "execution_count": 9,
   "id": "5c53c1b5",
   "metadata": {},
   "outputs": [],
   "source": [
    "sample_sentence_1 = \"Hello, this one sentence!\"\n",
    "sample_sentence_2 = \"This is another sentence.\""
   ]
  },
  {
   "cell_type": "code",
   "execution_count": 10,
   "id": "6a690717",
   "metadata": {},
   "outputs": [
    {
     "data": {
      "text/plain": [
       "{'input_ids': [8087, 108, 136, 156, 5577, 147, 1], 'attention_mask': [1, 1, 1, 1, 1, 1, 1]}"
      ]
     },
     "execution_count": 10,
     "metadata": {},
     "output_type": "execute_result"
    }
   ],
   "source": [
    "# tokenize one sentence\n",
    "tokenizer(sample_sentence_1)"
   ]
  },
  {
   "cell_type": "code",
   "execution_count": 11,
   "id": "a9af314c",
   "metadata": {},
   "outputs": [
    {
     "data": {
      "text/plain": [
       "{'input_ids': [[8087, 108, 136, 156, 5577, 147, 1], [182, 117, 372, 5577, 107, 1]], 'attention_mask': [[1, 1, 1, 1, 1, 1, 1], [1, 1, 1, 1, 1, 1]]}"
      ]
     },
     "execution_count": 11,
     "metadata": {},
     "output_type": "execute_result"
    }
   ],
   "source": [
    "# tokenize multiple sentences\n",
    "tokenizer([sample_sentence_1, sample_sentence_2])"
   ]
  },
  {
   "cell_type": "code",
   "execution_count": null,
   "id": "82f05d75",
   "metadata": {},
   "outputs": [],
   "source": [
    "# To prepare the targets for our model, \n",
    "# we need to tokenize them inside the as_target_tokenizer context manager\n",
    "with tokenizer.as_target_tokenizer():\n",
    "    print(tokenizer([\"Hello, this one sentence!\", \"This is another sentence.\"]))"
   ]
  },
  {
   "cell_type": "code",
   "execution_count": null,
   "id": "2d584e5e",
   "metadata": {},
   "outputs": [],
   "source": [
    "# T5 checkpoints we have to prefix the inputs with \"summarize:\"\n",
    "if model_checkpoint in [\"t5-small\", \"t5-base\", \"t5-larg\", \"t5-3b\", \"t5-11b\"]:\n",
    "    prefix = \"summarize: \"\n",
    "else:\n",
    "    prefix = \"\""
   ]
  },
  {
   "cell_type": "code",
   "execution_count": 20,
   "id": "f9876448",
   "metadata": {},
   "outputs": [],
   "source": [
    "max_input_length = 1024\n",
    "max_target_length = 128\n",
    "\n",
    "def preprocess_function(examples):\n",
    "    inputs = [doc for doc in examples[\"document\"]]\n",
    "    model_inputs = tokenizer(inputs, max_length=max_input_length, truncation=True)\n",
    "\n",
    "    # Setup the tokenizer for targets\n",
    "    with tokenizer.as_target_tokenizer():\n",
    "        labels = tokenizer(examples[\"summary\"], max_length=max_target_length, truncation=True)\n",
    "\n",
    "    model_inputs[\"labels\"] = labels[\"input_ids\"]\n",
    "    return model_inputs"
   ]
  },
  {
   "cell_type": "code",
   "execution_count": 21,
   "id": "cf4cdba9",
   "metadata": {},
   "outputs": [
    {
     "data": {
      "text/plain": [
       "{'input_ids': [[139, 357, 519, 113, 1303, 115, 12455, 9246, 108, 156, 113, 109, 633, 3741, 2790, 108, 117, 309, 270, 9068, 107, 4308, 201, 117, 3121, 115, 6334, 12358, 111, 223, 4194, 115, 91586, 14626, 1686, 8867, 2790, 141, 2716, 336, 107, 41558, 124, 109, 3381, 3682, 54521, 749, 12071, 640, 112, 1303, 134, 109, 1946, 59340, 15258, 22947, 107, 1478, 1098, 111, 3564, 1129, 195, 2790, 141, 10233, 115, 12455, 9246, 244, 109, 1951, 29821, 17198, 316, 190, 109, 1120, 107, 1485, 2965, 23164, 59614, 3333, 109, 345, 112, 11028, 109, 1303, 107, 139, 6500, 31670, 114, 11210, 1075, 108, 10233, 223, 1162, 1746, 124, 5156, 1411, 233, 109, 674, 1553, 55976, 107, 62273, 20678, 108, 170, 11216, 109, 30220, 9372, 162, 140, 8867, 2790, 108, 243, 265, 256, 146, 5709, 109, 1546, 121, 44224, 1407, 559, 109, 6172, 1194, 107, 611, 108, 265, 243, 154, 16530, 201, 256, 133, 174, 2777, 165, 112, 615, 109, 11210, 1075, 368, 146, 3656, 107, 198, 362, 117, 1011, 155, 125, 171, 311, 186, 117, 167, 249, 14447, 118, 65340, 111, 109, 8152, 307, 233, 111, 125, 2402, 2504, 120, 233, 155, 126, 117, 744, 172, 145, 131, 216, 13954, 132, 6460, 745, 265, 243, 107, 198, 1435, 218, 146, 129, 921, 155, 126, 117, 1850, 161, 2708, 204, 109, 289, 324, 390, 107, 198, 2393, 195, 119, 146, 734, 112, 225, 214, 114, 588, 154, 173, 109, 4752, 111, 109, 5929, 9737, 196, 1871, 165, 3801, 8199, 108, 114, 6172, 6034, 2085, 115, 295, 482, 109, 24417, 262, 113, 109, 3357, 2750, 107, 91586, 140, 8867, 1194, 141, 743, 108, 43011, 2101, 112, 4094, 154, 55244, 115, 109, 345, 107, 6603, 24417, 1583, 148, 414, 114, 467, 124, 203, 387, 113, 109, 4194, 3741, 2790, 111, 2456, 133, 174, 10907, 146, 112, 6477, 7879, 2566, 107, 139, 9083, 2905, 131, 116, 11501, 6603, 1919, 5296, 61011, 140, 115, 6334, 12358, 124, 1491, 112, 236, 109, 1288, 211, 561, 107, 285, 243, 126, 140, 356, 112, 179, 109, 6172, 1471, 511, 268, 155, 6001, 2101, 112, 1309, 164, 109, 366, 107, 198, 187, 140, 708, 784, 114, 3367, 141, 109, 713, 113, 1303, 120, 148, 174, 479, 745, 178, 243, 107, 198, 17570, 126, 117, 773, 121, 13802, 118, 200, 170, 133, 174, 3354, 165, 113, 153, 1463, 111, 109, 979, 124, 1098, 496, 285, 243, 126, 140, 356, 120, 198, 79177, 1550, 194, 195, 784, 112, 1480, 109, 633, 205, 5387, 111, 114, 786, 19672, 414, 115, 295, 118, 6172, 5498, 1017, 107, 2189, 119, 174, 2790, 141, 10233, 115, 65340, 111, 50771, 132, 109, 24417, 152, 8132, 214, 160, 128, 306, 113, 109, 1288, 111, 199, 126, 140, 5760, 107, 6326, 214, 124, 110, 14222, 35161, 107, 14551, 1384, 65272, 107, 1572, 107, 2723, 132, 110, 36532, 77899, 1384, 65272, 107, 1572, 107, 2723, 107, 1], [202, 1316, 5929, 687, 299, 134, 109, 6625, 6453, 115, 4093, 1411, 134, 160, 79846, 3142, 54493, 124, 1327, 111, 1621, 195, 1049, 112, 858, 109, 1221, 107, 398, 157, 5232, 833, 157, 1148, 109, 228, 7390, 108, 13762, 477, 121, 1846, 121, 3575, 115, 109, 439, 1669, 108, 46215, 141, 17329, 107, 614, 113, 109, 1473, 1211, 117, 135, 2579, 108, 109, 176, 135, 1224, 111, 9697, 107, 168, 140, 153, 211, 565, 115, 3701, 3360, 107, 139, 1712, 113, 156, 113, 109, 7390, 243, 223, 113, 109, 4828, 196, 518, 510, 12074, 124, 1042, 111, 219, 196, 174, 6487, 107, 2595, 1211, 133, 7219, 2408, 5646, 111, 138, 1213, 153, 1473, 113, 109, 2523, 3682, 678, 197, 157, 196, 2771, 107, 3385, 133, 19440, 118, 257, 160, 109, 2281, 107, 222, 12269, 1763, 16012, 243, 151, 198, 362, 2372, 130, 577, 109, 1316, 547, 365, 156, 113, 109, 7390, 269, 8561, 112, 109, 453, 107, 198, 1641, 109, 3015, 1007, 117, 309, 365, 3244, 108, 126, 117, 666, 120, 109, 1316, 140, 547, 14981, 496, 1]], 'attention_mask': [[1, 1, 1, 1, 1, 1, 1, 1, 1, 1, 1, 1, 1, 1, 1, 1, 1, 1, 1, 1, 1, 1, 1, 1, 1, 1, 1, 1, 1, 1, 1, 1, 1, 1, 1, 1, 1, 1, 1, 1, 1, 1, 1, 1, 1, 1, 1, 1, 1, 1, 1, 1, 1, 1, 1, 1, 1, 1, 1, 1, 1, 1, 1, 1, 1, 1, 1, 1, 1, 1, 1, 1, 1, 1, 1, 1, 1, 1, 1, 1, 1, 1, 1, 1, 1, 1, 1, 1, 1, 1, 1, 1, 1, 1, 1, 1, 1, 1, 1, 1, 1, 1, 1, 1, 1, 1, 1, 1, 1, 1, 1, 1, 1, 1, 1, 1, 1, 1, 1, 1, 1, 1, 1, 1, 1, 1, 1, 1, 1, 1, 1, 1, 1, 1, 1, 1, 1, 1, 1, 1, 1, 1, 1, 1, 1, 1, 1, 1, 1, 1, 1, 1, 1, 1, 1, 1, 1, 1, 1, 1, 1, 1, 1, 1, 1, 1, 1, 1, 1, 1, 1, 1, 1, 1, 1, 1, 1, 1, 1, 1, 1, 1, 1, 1, 1, 1, 1, 1, 1, 1, 1, 1, 1, 1, 1, 1, 1, 1, 1, 1, 1, 1, 1, 1, 1, 1, 1, 1, 1, 1, 1, 1, 1, 1, 1, 1, 1, 1, 1, 1, 1, 1, 1, 1, 1, 1, 1, 1, 1, 1, 1, 1, 1, 1, 1, 1, 1, 1, 1, 1, 1, 1, 1, 1, 1, 1, 1, 1, 1, 1, 1, 1, 1, 1, 1, 1, 1, 1, 1, 1, 1, 1, 1, 1, 1, 1, 1, 1, 1, 1, 1, 1, 1, 1, 1, 1, 1, 1, 1, 1, 1, 1, 1, 1, 1, 1, 1, 1, 1, 1, 1, 1, 1, 1, 1, 1, 1, 1, 1, 1, 1, 1, 1, 1, 1, 1, 1, 1, 1, 1, 1, 1, 1, 1, 1, 1, 1, 1, 1, 1, 1, 1, 1, 1, 1, 1, 1, 1, 1, 1, 1, 1, 1, 1, 1, 1, 1, 1, 1, 1, 1, 1, 1, 1, 1, 1, 1, 1, 1, 1, 1, 1, 1, 1, 1, 1, 1, 1, 1, 1, 1, 1, 1, 1, 1, 1, 1, 1, 1, 1, 1, 1, 1, 1, 1, 1, 1, 1, 1, 1, 1, 1, 1, 1, 1, 1, 1, 1, 1, 1, 1, 1, 1, 1, 1, 1, 1, 1, 1, 1, 1, 1, 1, 1, 1, 1, 1, 1, 1, 1, 1, 1, 1, 1, 1, 1, 1, 1, 1, 1, 1, 1, 1, 1, 1, 1, 1, 1, 1, 1, 1, 1, 1, 1, 1, 1, 1, 1, 1, 1, 1, 1, 1, 1, 1, 1, 1, 1, 1, 1, 1, 1, 1, 1, 1, 1, 1, 1, 1, 1, 1, 1, 1, 1, 1, 1, 1, 1, 1, 1, 1, 1, 1, 1, 1], [1, 1, 1, 1, 1, 1, 1, 1, 1, 1, 1, 1, 1, 1, 1, 1, 1, 1, 1, 1, 1, 1, 1, 1, 1, 1, 1, 1, 1, 1, 1, 1, 1, 1, 1, 1, 1, 1, 1, 1, 1, 1, 1, 1, 1, 1, 1, 1, 1, 1, 1, 1, 1, 1, 1, 1, 1, 1, 1, 1, 1, 1, 1, 1, 1, 1, 1, 1, 1, 1, 1, 1, 1, 1, 1, 1, 1, 1, 1, 1, 1, 1, 1, 1, 1, 1, 1, 1, 1, 1, 1, 1, 1, 1, 1, 1, 1, 1, 1, 1, 1, 1, 1, 1, 1, 1, 1, 1, 1, 1, 1, 1, 1, 1, 1, 1, 1, 1, 1, 1, 1, 1, 1, 1, 1, 1, 1, 1, 1, 1, 1, 1, 1, 1, 1, 1, 1, 1, 1, 1, 1, 1, 1, 1, 1, 1, 1, 1, 1, 1, 1, 1, 1, 1, 1, 1, 1, 1, 1, 1, 1, 1, 1, 1, 1, 1, 1, 1, 1, 1, 1, 1, 1, 1, 1, 1, 1, 1]], 'labels': [[6346, 121, 768, 1875, 127, 3712, 482, 109, 6603, 24417, 111, 65340, 111, 50771, 244, 10233, 2145, 141, 9442, 4989, 107, 1], [2508, 5315, 7390, 133, 174, 6487, 141, 1316, 115, 114, 9987, 47041, 2281, 115, 17022, 517, 2060, 107, 1]]}"
      ]
     },
     "execution_count": 21,
     "metadata": {},
     "output_type": "execute_result"
    }
   ],
   "source": [
    "preprocess_function(raw_datasets['train'][:2])"
   ]
  },
  {
   "cell_type": "code",
   "execution_count": 22,
   "id": "d9cab2e9",
   "metadata": {},
   "outputs": [
    {
     "data": {
      "application/vnd.jupyter.widget-view+json": {
       "model_id": "498612ba03fb4982b1389e05389d49bb",
       "version_major": 2,
       "version_minor": 0
      },
      "text/plain": [
       "  0%|          | 0/205 [00:00<?, ?ba/s]"
      ]
     },
     "metadata": {},
     "output_type": "display_data"
    },
    {
     "data": {
      "application/vnd.jupyter.widget-view+json": {
       "model_id": "a24a64d3cb9f470c9125e01af3a93c77",
       "version_major": 2,
       "version_minor": 0
      },
      "text/plain": [
       "  0%|          | 0/12 [00:00<?, ?ba/s]"
      ]
     },
     "metadata": {},
     "output_type": "display_data"
    },
    {
     "data": {
      "application/vnd.jupyter.widget-view+json": {
       "model_id": "fa4368462460468689f4c6145b296646",
       "version_major": 2,
       "version_minor": 0
      },
      "text/plain": [
       "  0%|          | 0/12 [00:00<?, ?ba/s]"
      ]
     },
     "metadata": {},
     "output_type": "display_data"
    }
   ],
   "source": [
    "# tokenize the whole dataset\n",
    "tokenized_datasets = raw_datasets.map(preprocess_function, batched=True)"
   ]
  },
  {
   "cell_type": "code",
   "execution_count": 26,
   "id": "1d50dc6b",
   "metadata": {},
   "outputs": [],
   "source": [
    "import argparse\n",
    "import torch\n",
    "import datasets\n",
    "from typing import List, Tuple\n",
    "# from sumtool.utils import entropy\n",
    "from xsum_dataset import XsumDataset\n",
    "# from sumtool.storage import store_model_summaries\n",
    "from transformers import BartTokenizer, BartForConditionalGeneration\n",
    "\n",
    "device = torch.device(\"cuda\" if torch.cuda.is_available() else \"cpu\")"
   ]
  },
  {
   "cell_type": "code",
   "execution_count": 27,
   "id": "5118d856",
   "metadata": {},
   "outputs": [],
   "source": [
    "def load_summarization_model_and_tokenizer() -> Tuple[\n",
    "    BartForConditionalGeneration, BartTokenizer\n",
    "]:\n",
    "    \"\"\"\n",
    "    Load summary generation model and move to GPU, if possible.\n",
    "    Returns:\n",
    "        (model, tokenizer)\n",
    "    \"\"\"\n",
    "    tokenizer = BartTokenizer.from_pretrained(\"facebook/bart-large-xsum\")\n",
    "    model = BartForConditionalGeneration.from_pretrained(\"facebook/bart-large-xsum\")\n",
    "    model.to(device)\n",
    "\n",
    "    return model, tokenizer"
   ]
  },
  {
   "cell_type": "code",
   "execution_count": 28,
   "id": "c1271e6b",
   "metadata": {},
   "outputs": [],
   "source": [
    "def generate_summaries(\n",
    "    model: BartForConditionalGeneration,\n",
    "    tokenizer: BartTokenizer,\n",
    "    docs_to_summarize: List[str],\n",
    "    num_beams: int = 4,\n",
    "    return_generation_metadata: bool = False\n",
    "):\n",
    "    \"\"\"\n",
    "    Given a trained summary generation model and appropriate tokenizer,\n",
    "    1. Tokenize text (and move to device, if possible)\n",
    "    2. Run inference on model to generate output vocabulary tokens for summary\n",
    "    3. Decode tokens to a sentence using the tokenizer\n",
    "    Args:\n",
    "        model: model to run inference on\n",
    "        tokenizer: tokenizer corresponding to model\n",
    "        docs_to_summarize: documents to summarize\n",
    "        num_beams: number of beams for beam search\n",
    "        return_generation_metadata: whether generation metadata should be returned\n",
    "    Returns:\n",
    "        decoded_sentence\n",
    "    \"\"\"\n",
    "    inputs = tokenizer(\n",
    "        docs_to_summarize,\n",
    "        max_length=1024,\n",
    "        truncation=True,\n",
    "        return_tensors=\"pt\",\n",
    "        padding=True,\n",
    "    )\n",
    "    input_token_ids = inputs.input_ids.to(device)\n",
    "\n",
    "    model_output = model.generate(\n",
    "        input_token_ids,\n",
    "        num_beams=num_beams,\n",
    "        max_length=150,\n",
    "        early_stopping=True,\n",
    "        return_dict_in_generate=True,\n",
    "        output_scores=True,\n",
    "    )\n",
    "\n",
    "    generated_summaries = [\n",
    "        tokenizer.decode(\n",
    "            id, skip_special_tokens=True, clean_up_tokenization_spaces=False\n",
    "        )\n",
    "        for id in model_output.sequences\n",
    "    ]\n",
    "\n",
    "    if not return_generation_metadata:\n",
    "        return generated_summaries\n",
    "    else:\n",
    "        token_metadata = []\n",
    "        input_set = input_token_ids.view(-1).tolist()\n",
    "        for seq_idx in range(model_output.sequences.shape[0]):\n",
    "            seq_metadata = []\n",
    "            token_metadata.append(seq_metadata)\n",
    "            for idx, output_token_id in enumerate(model_output.sequences[seq_idx][1:]):\n",
    "                beam_idx = model_output.beam_indices[seq_idx][idx]\n",
    "                selected_beam_probs = torch.exp(model_output.scores[idx][beam_idx])\n",
    "\n",
    "                beam_top_alternatives = []\n",
    "                top_probs = torch.topk(selected_beam_probs, k=3)\n",
    "                for i, v in zip(top_probs.indices, top_probs.values):\n",
    "                    beam_top_alternatives.append({\n",
    "                        \"token\": tokenizer.decode(i),\n",
    "                        \"token_id\": i.item(),\n",
    "                        \"beam_token_prob\": v.item()\n",
    "                    })\n",
    "\n",
    "                seq_metadata.append({\n",
    "                    \"token_id\": output_token_id,\n",
    "                    \"token\": tokenizer.decode(output_token_id),\n",
    "                    \"entropy\": entropy(selected_beam_probs),\n",
    "                    \"beam_token_prob\": selected_beam_probs[output_token_id].item(),\n",
    "                    \"beam_idx\": beam_idx.item(),\n",
    "                    \"beam_top_probs\": beam_top_alternatives,\n",
    "                    \"token_in_input\": output_token_id in input_set,\n",
    "                })\n",
    "\n",
    "        return generated_summaries, token_metadata\n"
   ]
  },
  {
   "cell_type": "code",
   "execution_count": 31,
   "id": "52f82fe5",
   "metadata": {},
   "outputs": [],
   "source": [
    "data_split = \"test\"  # \"train\", \"test\", \"validation\""
   ]
  },
  {
   "cell_type": "code",
   "execution_count": 29,
   "id": "068300eb",
   "metadata": {},
   "outputs": [
    {
     "data": {
      "application/vnd.jupyter.widget-view+json": {
       "model_id": "3ee36a7c771c4e2e8bde88f29d910847",
       "version_major": 2,
       "version_minor": 0
      },
      "text/plain": [
       "Downloading:   0%|          | 0.00/878k [00:00<?, ?B/s]"
      ]
     },
     "metadata": {},
     "output_type": "display_data"
    },
    {
     "data": {
      "application/vnd.jupyter.widget-view+json": {
       "model_id": "e52d717973594d59b9ae7eeba171a867",
       "version_major": 2,
       "version_minor": 0
      },
      "text/plain": [
       "Downloading:   0%|          | 0.00/446k [00:00<?, ?B/s]"
      ]
     },
     "metadata": {},
     "output_type": "display_data"
    },
    {
     "data": {
      "application/vnd.jupyter.widget-view+json": {
       "model_id": "81ac9e7c3ca5481f9b3ed5282f581f44",
       "version_major": 2,
       "version_minor": 0
      },
      "text/plain": [
       "Downloading:   0%|          | 0.00/26.0 [00:00<?, ?B/s]"
      ]
     },
     "metadata": {},
     "output_type": "display_data"
    },
    {
     "data": {
      "application/vnd.jupyter.widget-view+json": {
       "model_id": "7c94e4b51174403d8881de5fbe16176c",
       "version_major": 2,
       "version_minor": 0
      },
      "text/plain": [
       "Downloading:   0%|          | 0.00/1.29M [00:00<?, ?B/s]"
      ]
     },
     "metadata": {},
     "output_type": "display_data"
    },
    {
     "data": {
      "application/vnd.jupyter.widget-view+json": {
       "model_id": "6641b20209694ca08cb8dcfad0e67b3c",
       "version_major": 2,
       "version_minor": 0
      },
      "text/plain": [
       "Downloading:   0%|          | 0.00/1.48k [00:00<?, ?B/s]"
      ]
     },
     "metadata": {},
     "output_type": "display_data"
    },
    {
     "data": {
      "application/vnd.jupyter.widget-view+json": {
       "model_id": "24840cab9d8b42ab90ee0b36b49f7dbf",
       "version_major": 2,
       "version_minor": 0
      },
      "text/plain": [
       "Downloading:   0%|          | 0.00/1.51G [00:00<?, ?B/s]"
      ]
     },
     "metadata": {},
     "output_type": "display_data"
    }
   ],
   "source": [
    "model, tokenizer = load_summarization_model_and_tokenizer()"
   ]
  },
  {
   "cell_type": "code",
   "execution_count": 32,
   "id": "abfc5bfb",
   "metadata": {},
   "outputs": [
    {
     "name": "stderr",
     "output_type": "stream",
     "text": [
      "Using custom data configuration default\n",
      "Reusing dataset xsum (/home/wk247/.cache/huggingface/datasets/xsum/default/1.2.0/32c23220eadddb1149b16ed2e9430a05293768cfffbdfd151058697d4c11f934)\n"
     ]
    },
    {
     "data": {
      "application/vnd.jupyter.widget-view+json": {
       "model_id": "e1c6874047064fbe823cc5ff3c286d75",
       "version_major": 2,
       "version_minor": 0
      },
      "text/plain": [
       "  0%|          | 0/3 [00:00<?, ?it/s]"
      ]
     },
     "metadata": {},
     "output_type": "display_data"
    }
   ],
   "source": [
    "xsum_data = XsumDataset(datasets.load_dataset(\"xsum\")[data_split])"
   ]
  },
  {
   "cell_type": "code",
   "execution_count": 39,
   "id": "4dc85c50",
   "metadata": {},
   "outputs": [],
   "source": [
    "bbc_ids = [\"38264402\", \"34227252\"]"
   ]
  },
  {
   "cell_type": "code",
   "execution_count": 42,
   "id": "7e82d2a9",
   "metadata": {},
   "outputs": [],
   "source": [
    "selected_data = [xsum_data.data_by_id[x.strip()] for x in bbc_ids]"
   ]
  },
  {
   "cell_type": "code",
   "execution_count": 44,
   "id": "611cb392",
   "metadata": {},
   "outputs": [
    {
     "ename": "AttributeError",
     "evalue": "'BeamSearchEncoderDecoderOutput' object has no attribute 'beam_indices'",
     "output_type": "error",
     "traceback": [
      "\u001b[0;31m---------------------------------------------------------------------------\u001b[0m",
      "\u001b[0;31mAttributeError\u001b[0m                            Traceback (most recent call last)",
      "\u001b[0;32m/tmp/ipykernel_1672460/3810743500.py\u001b[0m in \u001b[0;36m<module>\u001b[0;34m\u001b[0m\n\u001b[0;32m----> 1\u001b[0;31m summaries, generation_metadata = generate_summaries(\n\u001b[0m\u001b[1;32m      2\u001b[0m         \u001b[0mmodel\u001b[0m\u001b[0;34m,\u001b[0m\u001b[0;34m\u001b[0m\u001b[0;34m\u001b[0m\u001b[0m\n\u001b[1;32m      3\u001b[0m         \u001b[0mtokenizer\u001b[0m\u001b[0;34m,\u001b[0m\u001b[0;34m\u001b[0m\u001b[0;34m\u001b[0m\u001b[0m\n\u001b[1;32m      4\u001b[0m         \u001b[0;34m[\u001b[0m\u001b[0mx\u001b[0m\u001b[0;34m[\u001b[0m\u001b[0;34m\"document\"\u001b[0m\u001b[0;34m]\u001b[0m \u001b[0;32mfor\u001b[0m \u001b[0mx\u001b[0m \u001b[0;32min\u001b[0m \u001b[0mselected_data\u001b[0m\u001b[0;34m]\u001b[0m\u001b[0;34m,\u001b[0m\u001b[0;34m\u001b[0m\u001b[0;34m\u001b[0m\u001b[0m\n\u001b[1;32m      5\u001b[0m         \u001b[0mnum_beams\u001b[0m\u001b[0;34m=\u001b[0m\u001b[0;36m4\u001b[0m\u001b[0;34m,\u001b[0m\u001b[0;34m\u001b[0m\u001b[0;34m\u001b[0m\u001b[0m\n",
      "\u001b[0;32m/tmp/ipykernel_1672460/3616487219.py\u001b[0m in \u001b[0;36mgenerate_summaries\u001b[0;34m(model, tokenizer, docs_to_summarize, num_beams, return_generation_metadata)\u001b[0m\n\u001b[1;32m     54\u001b[0m             \u001b[0mtoken_metadata\u001b[0m\u001b[0;34m.\u001b[0m\u001b[0mappend\u001b[0m\u001b[0;34m(\u001b[0m\u001b[0mseq_metadata\u001b[0m\u001b[0;34m)\u001b[0m\u001b[0;34m\u001b[0m\u001b[0;34m\u001b[0m\u001b[0m\n\u001b[1;32m     55\u001b[0m             \u001b[0;32mfor\u001b[0m \u001b[0midx\u001b[0m\u001b[0;34m,\u001b[0m \u001b[0moutput_token_id\u001b[0m \u001b[0;32min\u001b[0m \u001b[0menumerate\u001b[0m\u001b[0;34m(\u001b[0m\u001b[0mmodel_output\u001b[0m\u001b[0;34m.\u001b[0m\u001b[0msequences\u001b[0m\u001b[0;34m[\u001b[0m\u001b[0mseq_idx\u001b[0m\u001b[0;34m]\u001b[0m\u001b[0;34m[\u001b[0m\u001b[0;36m1\u001b[0m\u001b[0;34m:\u001b[0m\u001b[0;34m]\u001b[0m\u001b[0;34m)\u001b[0m\u001b[0;34m:\u001b[0m\u001b[0;34m\u001b[0m\u001b[0;34m\u001b[0m\u001b[0m\n\u001b[0;32m---> 56\u001b[0;31m                 \u001b[0mbeam_idx\u001b[0m \u001b[0;34m=\u001b[0m \u001b[0mmodel_output\u001b[0m\u001b[0;34m.\u001b[0m\u001b[0mbeam_indices\u001b[0m\u001b[0;34m[\u001b[0m\u001b[0mseq_idx\u001b[0m\u001b[0;34m]\u001b[0m\u001b[0;34m[\u001b[0m\u001b[0midx\u001b[0m\u001b[0;34m]\u001b[0m\u001b[0;34m\u001b[0m\u001b[0;34m\u001b[0m\u001b[0m\n\u001b[0m\u001b[1;32m     57\u001b[0m                 \u001b[0mselected_beam_probs\u001b[0m \u001b[0;34m=\u001b[0m \u001b[0mtorch\u001b[0m\u001b[0;34m.\u001b[0m\u001b[0mexp\u001b[0m\u001b[0;34m(\u001b[0m\u001b[0mmodel_output\u001b[0m\u001b[0;34m.\u001b[0m\u001b[0mscores\u001b[0m\u001b[0;34m[\u001b[0m\u001b[0midx\u001b[0m\u001b[0;34m]\u001b[0m\u001b[0;34m[\u001b[0m\u001b[0mbeam_idx\u001b[0m\u001b[0;34m]\u001b[0m\u001b[0;34m)\u001b[0m\u001b[0;34m\u001b[0m\u001b[0;34m\u001b[0m\u001b[0m\n\u001b[1;32m     58\u001b[0m \u001b[0;34m\u001b[0m\u001b[0m\n",
      "\u001b[0;31mAttributeError\u001b[0m: 'BeamSearchEncoderDecoderOutput' object has no attribute 'beam_indices'"
     ]
    }
   ],
   "source": [
    "summaries, generation_metadata = generate_summaries(\n",
    "        model,\n",
    "        tokenizer,\n",
    "        [x[\"document\"] for x in selected_data],\n",
    "        num_beams=4,\n",
    "        return_generation_metadata=True\n",
    "    )"
   ]
  },
  {
   "cell_type": "code",
   "execution_count": null,
   "id": "b5ffd883",
   "metadata": {},
   "outputs": [],
   "source": [
    "if __name__ == \"__main__\":\n",
    "    parser = argparse.ArgumentParser(\n",
    "        description=\"Script to run inference on an xsum example using a pre-trained model\"\n",
    "    )\n",
    "\n",
    "    parser.add_argument(\n",
    "        \"--bbc_ids\",\n",
    "        type=str,\n",
    "        required=True,\n",
    "        help=\"Comma-separated document BBC IDs in the Xsum dataset\",\n",
    "    )\n",
    "\n",
    "    parser.add_argument(\n",
    "        \"--data_split\",\n",
    "        type=str,\n",
    "        required=True,\n",
    "        choices=[\"train\", \"test\", \"validation\"],\n",
    "        help=\"xsum data split to index into with `data_index`\",\n",
    "    )\n",
    "\n",
    "    args = parser.parse_args()\n",
    "\n",
    "    model, tokenizer = load_summarization_model_and_tokenizer()\n",
    "\n",
    "    xsum_data = XsumDataset(datasets.load_dataset(\"xsum\")[args.data_split])\n",
    "    selected_data = [xsum_data.data_by_id[x.strip()] for x in args.bbc_ids.split(\",\")]\n",
    "\n",
    "    summaries, generation_metadata = generate_summaries(\n",
    "        model,\n",
    "        tokenizer,\n",
    "        [x[\"document\"] for x in selected_data],\n",
    "        num_beams=4,\n",
    "        return_generation_metadata=True\n",
    "    )\n",
    "\n",
    "    summary_metadata = {}\n",
    "\n",
    "    for source, gen_summary, seq_metadata in zip(selected_data, summaries, generation_metadata):\n",
    "        print(\"XSUM ID\", source[\"id\"])\n",
    "        print(\"GOLD STANDARD SUMMARY:\", source[\"true_summary\"])\n",
    "        print(\"PREDICTED SUMMARY:\", gen_summary)\n",
    "\n",
    "        tokens_with_entropy = []\n",
    "        for token_metadata in seq_metadata:\n",
    "            tokens_with_entropy.append((\n",
    "                token_metadata[\"token\"],\n",
    "                token_metadata[\"entropy\"]\n",
    "            ))\n",
    "\n",
    "        summary_metadata[source[\"id\"]] = {\n",
    "            \"tokens_with_entropy\": tokens_with_entropy\n",
    "        }\n",
    "\n",
    "#     store_model_summaries(\n",
    "#         \"xsum\",\n",
    "#         model.config.name_or_path,\n",
    "#         model.config.to_dict(),\n",
    "#         {\n",
    "#             source[\"id\"]: gen_summary\n",
    "#             for source, gen_summary in zip(selected_data, summaries)\n",
    "#         },\n",
    "#         summary_metadata\n",
    "#     )"
   ]
  }
 ],
 "metadata": {
  "interpreter": {
   "hash": "6235329e4e80563f0f629f7d03bff3ed38888b52eb6adc0ce82f2c2e907be760"
  },
  "kernelspec": {
   "display_name": "Python 3.8.13 ('xsum_analysis')",
   "language": "python",
   "name": "python3"
  },
  "language_info": {
   "codemirror_mode": {
    "name": "ipython",
    "version": 3
   },
   "file_extension": ".py",
   "mimetype": "text/x-python",
   "name": "python",
   "nbconvert_exporter": "python",
   "pygments_lexer": "ipython3",
   "version": "3.8.13"
  }
 },
 "nbformat": 4,
 "nbformat_minor": 5
}
