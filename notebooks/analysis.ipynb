{
 "cells": [
  {
   "cell_type": "code",
   "execution_count": 1,
   "id": "a52e3809",
   "metadata": {},
   "outputs": [],
   "source": [
    "import datasets\n",
    "from xsum_dataset import XsumDataset"
   ]
  },
  {
   "cell_type": "code",
   "execution_count": 2,
   "id": "382259b1",
   "metadata": {},
   "outputs": [
    {
     "name": "stderr",
     "output_type": "stream",
     "text": [
      "Using custom data configuration default\n",
      "Reusing dataset xsum (/home/wk247/.cache/huggingface/datasets/xsum/default/1.2.0/32c23220eadddb1149b16ed2e9430a05293768cfffbdfd151058697d4c11f934)\n"
     ]
    },
    {
     "data": {
      "application/vnd.jupyter.widget-view+json": {
       "model_id": "cd3867d4943144dd978010aa3e3aaa4b",
       "version_major": 2,
       "version_minor": 0
      },
      "text/plain": [
       "  0%|          | 0/3 [00:00<?, ?it/s]"
      ]
     },
     "metadata": {},
     "output_type": "display_data"
    }
   ],
   "source": [
    "xsum_data_raw = datasets.load_dataset(\"xsum\")"
   ]
  },
  {
   "cell_type": "code",
   "execution_count": 3,
   "id": "f7037c38",
   "metadata": {},
   "outputs": [],
   "source": [
    "# train/val/test data\n",
    "# xsum_train_data = XsumDataset(xsum_data_raw[\"train\"])\n",
    "xsum_val_data = XsumDataset(xsum_data_raw[\"validation\"])\n",
    "xsum_test_data = XsumDataset(xsum_data_raw[\"test\"])"
   ]
  },
  {
   "cell_type": "code",
   "execution_count": 4,
   "id": "db7cf453",
   "metadata": {},
   "outputs": [],
   "source": [
    "from generate_xsum_summary import load_summarization_model_and_tokenizer, generate_summaries, generate_token_entropy_metadata\n",
    "import random\n",
    "\n",
    "random.seed(0)"
   ]
  },
  {
   "cell_type": "code",
   "execution_count": 17,
   "id": "c72590ed",
   "metadata": {},
   "outputs": [],
   "source": [
    "from ner_utils import *"
   ]
  },
  {
   "cell_type": "code",
   "execution_count": 18,
   "id": "84512df1",
   "metadata": {},
   "outputs": [],
   "source": [
    "log_probs_cache_dir = \"/home/wk247/workspace/xsum_analysis/cache/log_probs\""
   ]
  },
  {
   "cell_type": "code",
   "execution_count": 55,
   "id": "2a136570",
   "metadata": {},
   "outputs": [
    {
     "name": "stdout",
     "output_type": "stream",
     "text": [
      "'/home/wk247/workspace/xsum_analysis/cache/log_probs/original_log_probs_list.pkl' loaded\n",
      "'/home/wk247/workspace/xsum_analysis/cache/log_probs/ood_log_probs_list_insert_1_random.pkl' loaded\n",
      "'/home/wk247/workspace/xsum_analysis/cache/log_probs/ood_log_probs_list_insert_1_top1.pkl' loaded\n",
      "'/home/wk247/workspace/xsum_analysis/cache/log_probs/ood_log_probs_list_insert_2_random.pkl' loaded\n",
      "'/home/wk247/workspace/xsum_analysis/cache/log_probs/ood_log_probs_list_insert_2_topbottom.pkl' loaded\n",
      "'/home/wk247/workspace/xsum_analysis/cache/log_probs/ood_log_probs_list_ner.pkl' loaded\n"
     ]
    }
   ],
   "source": [
    "original_ood_prob_list = load_from_cache_dir(\"original_log_probs_list\", log_probs_cache_dir)\n",
    "ood_log_probs_list_insert_1_random = load_from_cache_dir(\"ood_log_probs_list_insert_1_random\", log_probs_cache_dir)\n",
    "ood_log_probs_list_insert_1_top1 = load_from_cache_dir(\"ood_log_probs_list_insert_1_top1\", log_probs_cache_dir)\n",
    "ood_log_probs_list_insert_2_random = load_from_cache_dir(\"ood_log_probs_list_insert_2_random\", log_probs_cache_dir)\n",
    "ood_log_probs_list_insert_2_topbottom = load_from_cache_dir(\"ood_log_probs_list_insert_2_topbottom\", log_probs_cache_dir)\n",
    "ood_log_probs_list_ner = load_from_cache_dir(\"ood_log_probs_list_ner\", log_probs_cache_dir)"
   ]
  },
  {
   "cell_type": "code",
   "execution_count": 29,
   "id": "5d8f8e09",
   "metadata": {},
   "outputs": [
    {
     "data": {
      "text/plain": [
       "True"
      ]
     },
     "execution_count": 29,
     "metadata": {},
     "output_type": "execute_result"
    }
   ],
   "source": [
    "len(original_ood_prob_list) == len(ood_log_probs_list_insert_1_random) \\\n",
    "== len(ood_log_probs_list_insert_1_top1) == len(ood_log_probs_list_insert_2_random) \\\n",
    "== len(ood_log_probs_list_insert_2_topbottom) == len(ood_log_probs_list_ner)"
   ]
  },
  {
   "cell_type": "code",
   "execution_count": 49,
   "id": "436dd2f0",
   "metadata": {},
   "outputs": [],
   "source": [
    "import torch\n",
    "import numpy as np"
   ]
  },
  {
   "cell_type": "code",
   "execution_count": 64,
   "id": "a6f7fc22",
   "metadata": {},
   "outputs": [],
   "source": [
    "def calculate_KL(p_s, q_s):\n",
    "    assert len(p_s) == len(q_s)\n",
    "    kl_list = []\n",
    "    for p, q in zip(p_s, q_s):\n",
    "        if q == None:\n",
    "            kl_list.append(np.nan)\n",
    "            continue\n",
    "        \n",
    "        assert p.size(0) == q.size(0)\n",
    "        num_y = p.size(0)\n",
    "        \n",
    "        p = p.cpu()\n",
    "        q = q.cpu()\n",
    "        kl_list.append((torch.sum(p - q) / num_y).item())\n",
    "    return np.array(kl_list)"
   ]
  },
  {
   "cell_type": "code",
   "execution_count": 33,
   "id": "591877a2",
   "metadata": {},
   "outputs": [
    {
     "data": {
      "text/plain": [
       "torch.Size([30])"
      ]
     },
     "execution_count": 33,
     "metadata": {},
     "output_type": "execute_result"
    }
   ],
   "source": [
    "original_ood_prob_list[0].size()"
   ]
  },
  {
   "cell_type": "code",
   "execution_count": 32,
   "id": "7b16bc66",
   "metadata": {},
   "outputs": [
    {
     "data": {
      "text/plain": [
       "tensor([-11.9782, -13.3513, -12.5838, -13.0289, -13.2889, -12.6384, -13.0642,\n",
       "        -14.2455, -13.8305, -13.6964, -13.3160, -13.3069, -12.3476, -12.5619,\n",
       "        -13.7266, -15.1430, -13.9522, -15.1037, -13.7510, -14.4966, -13.8416,\n",
       "        -15.1953, -13.3027, -12.6547, -14.0787, -13.9904, -14.7668, -15.5496,\n",
       "        -14.8441, -14.3661])"
      ]
     },
     "execution_count": 32,
     "metadata": {},
     "output_type": "execute_result"
    }
   ],
   "source": [
    "ood_log_probs_list_insert_1_random[0].cpu()"
   ]
  },
  {
   "cell_type": "code",
   "execution_count": 58,
   "id": "42a0bc3e",
   "metadata": {},
   "outputs": [],
   "source": [
    "for idx, t in enumerate(ood_log_probs_list_ner):\n",
    "    if type(t) == list:\n",
    "        ood_log_probs_list_ner[idx] = None"
   ]
  },
  {
   "cell_type": "code",
   "execution_count": 65,
   "id": "b0bfeb1d",
   "metadata": {},
   "outputs": [],
   "source": [
    "insert_1_random_KL = calculate_KL(original_ood_prob_list, ood_log_probs_list_insert_1_random)\n",
    "insert_1_top1_KL = calculate_KL(original_ood_prob_list, ood_log_probs_list_insert_1_top1)\n",
    "insert_2_random_KL = calculate_KL(original_ood_prob_list, ood_log_probs_list_insert_2_random)\n",
    "insert_2_topbottom_KL = calculate_KL(original_ood_prob_list, ood_log_probs_list_insert_2_topbottom)\n",
    "\n",
    "ner_KL = calculate_KL(original_ood_prob_list, ood_log_probs_list_ner)"
   ]
  },
  {
   "cell_type": "code",
   "execution_count": 90,
   "id": "bff237cd",
   "metadata": {},
   "outputs": [],
   "source": [
    "def get_stats(array):\n",
    "    return np.nanmean(array), np.nanmedian(array), np.nanstd(array)"
   ]
  },
  {
   "cell_type": "code",
   "execution_count": 95,
   "id": "36f0c2d5",
   "metadata": {},
   "outputs": [],
   "source": [
    "insert_1_random_KL_mean, insert_1_random_KL_median, insert_1_random_KL_std = get_stats(insert_1_random_KL)\n",
    "insert_1_top_KL_mean, insert_1_top_KL_median, insert_1_top_KL_std = get_stats(insert_1_top1_KL)\n",
    "insert_2_random_KL_mean, insert_2_random_KL_median, insert_2_random_KL_std = get_stats(insert_2_random_KL)\n",
    "insert_2_topbottom_KL_mean, insert_2_topbottom_KL_median, insert_2_topbottom_KL_std = get_stats(insert_2_topbottom_KL)\n",
    "ner_KL_mean, ner_KL_median, ner_KL_std = get_stats(ner_KL)"
   ]
  },
  {
   "cell_type": "code",
   "execution_count": 93,
   "id": "cbe574d4",
   "metadata": {},
   "outputs": [
    {
     "name": "stdout",
     "output_type": "stream",
     "text": [
      "insert 1 sentencence to the random position of the document- mean:2.107,       median:0.818,       std:3.102\n"
     ]
    }
   ],
   "source": [
    "print(f\"insert 1 sentencence to the random position of the document- mean:{insert_1_random_KL_mean:.3f}, \\\n",
    "      median:{insert_1_random_KL_median:.3f}, \\\n",
    "      std:{insert_1_random_KL_std:.3f}\")"
   ]
  },
  {
   "cell_type": "code",
   "execution_count": 83,
   "id": "b21e2e84",
   "metadata": {},
   "outputs": [
    {
     "name": "stdout",
     "output_type": "stream",
     "text": [
      "insert one sentencence to the top of the document- mean:5.007,       median:4.146,       std:3.962\n"
     ]
    }
   ],
   "source": [
    "print(f\"insert 1 sentencence to the top of the document- mean:{insert_1_top1_KL.mean():.3f}, \\\n",
    "      median:{np.median(insert_1_top1_KL):.3f}, \\\n",
    "      std:{insert_1_top1_KL.std():.3f}\")"
   ]
  },
  {
   "cell_type": "code",
   "execution_count": 84,
   "id": "c109d2a5",
   "metadata": {},
   "outputs": [
    {
     "name": "stdout",
     "output_type": "stream",
     "text": [
      "insert two sentencences to the random position of the document- mean:3.634,       median:2.172,       std:4.164\n"
     ]
    }
   ],
   "source": [
    "print(f\"insert two sentencences to the random position of the document- mean:{insert_2_random_KL.mean():.3f}, \\\n",
    "      median:{np.median(insert_2_random_KL):.3f}, \\\n",
    "      std:{insert_2_random_KL.std():.3f}\")"
   ]
  },
  {
   "cell_type": "code",
   "execution_count": 85,
   "id": "992e0485",
   "metadata": {},
   "outputs": [
    {
     "name": "stdout",
     "output_type": "stream",
     "text": [
      "insert two sentencences to the top and bottom of the document- mean:5.704,       median:4.726,       std:4.387\n"
     ]
    }
   ],
   "source": [
    "print(f\"insert two sentencences to the top and bottom of the document- mean:{insert_2_topbottom_KL.mean():.3f}, \\\n",
    "      median:{np.median(insert_2_topbottom_KL):.3f}, \\\n",
    "      std:{insert_2_topbottom_KL.std():.3f}\")"
   ]
  },
  {
   "cell_type": "code",
   "execution_count": 88,
   "id": "24d96fcd",
   "metadata": {},
   "outputs": [
    {
     "name": "stdout",
     "output_type": "stream",
     "text": [
      "replace named entity of the document- mean:7.003,       median:5.021,       std:6.939\n"
     ]
    }
   ],
   "source": [
    "print(f\"replace named entity of the document- mean:{np.nanmean(ner_KL):.3f}, \\\n",
    "      median:{np.nanmedian(ner_KL):.3f}, \\\n",
    "      std:{np.nanstd(ner_KL):.3f}\")"
   ]
  },
  {
   "cell_type": "markdown",
   "id": "81dd8b3e",
   "metadata": {},
   "source": [
    "# visualize"
   ]
  },
  {
   "cell_type": "code",
   "execution_count": 96,
   "id": "38a0e67f",
   "metadata": {},
   "outputs": [],
   "source": [
    "import matplotlib.pyplot as plt\n",
    "%matplotlib inline"
   ]
  },
  {
   "cell_type": "code",
   "execution_count": 135,
   "id": "bbb71d79",
   "metadata": {},
   "outputs": [],
   "source": [
    "# Create lists for the plot\n",
    "x_s = ['Insert1_random','Insert1_top', 'Insert2_random', 'Insert2_top_bottom', 'Named_entity']\n",
    "x_pos = np.arange(len(x_s))\n",
    "means = [insert_1_random_KL_mean, insert_1_top_KL_mean, insert_2_random_KL_mean, insert_2_topbottom_KL_mean, ner_KL_mean]\n",
    "medians = [insert_1_random_KL_median, insert_1_top_KL_median, insert_2_random_KL_median, insert_2_topbottom_KL_median, ner_KL_median]\n",
    "stds = [insert_1_random_KL_std, insert_1_top_KL_std, insert_1_random_KL_std, insert_2_topbottom_KL_mean, ner_KL_std]"
   ]
  },
  {
   "cell_type": "code",
   "execution_count": 166,
   "id": "005784f3",
   "metadata": {},
   "outputs": [
    {
     "data": {
      "image/png": "[encoded data removed]",
      "text/plain": [
       "<Figure size 972x468 with 1 Axes>"
      ]
     },
     "metadata": {
      "needs_background": "light"
     },
     "output_type": "display_data"
    }
   ],
   "source": [
    "# Build the plot\n",
    "fig, ax = plt.subplots()\n",
    "fig.set_size_inches(13.5, 6.5)\n",
    "ax.bar(x_pos, means, yerr=stds, align='center', alpha=0.5, ecolor='black', capsize=20,\n",
    "      color=['green', 'yellow', 'green', 'yellow', 'blue'])\n",
    "ax.set_ylabel('Mean KL Divergence', fontsize=20)\n",
    "ax.set_xticks(x_pos)\n",
    "ax.set_xticklabels(x_s, fontsize=18)\n",
    "ax.yaxis.grid(True)\n",
    "plt.ylim(bottom=0)\n",
    "\n",
    "# add median\n",
    "plt.plot(x_pos, medians, marker=\"D\", linestyle=\"\", alpha=0.8, color=\"red\", markersize=10)\n",
    "\n",
    "# Save the figure and show\n",
    "plt.tight_layout()\n",
    "plt.savefig('./vis/kl_mean_std.png')\n",
    "plt.show()"
   ]
  },
  {
   "cell_type": "code",
   "execution_count": 147,
   "id": "bab42da1",
   "metadata": {},
   "outputs": [
    {
     "data": {
      "image/png": "[encoded data removed]",
      "text/plain": [
       "<Figure size 756x468 with 1 Axes>"
      ]
     },
     "metadata": {
      "needs_background": "light"
     },
     "output_type": "display_data"
    }
   ],
   "source": [
    "# Build the plot\n",
    "fig, ax = plt.subplots()\n",
    "fig.set_size_inches(10.5, 6.5)\n",
    "ax.bar(x_pos, medians, yerr=stds, align='center', alpha=0.5, ecolor='black', capsize=10,\n",
    "      color=['green', 'red', 'green', 'red', 'blue'])\n",
    "ax.set_ylabel('Median KL Divergence', fontsize=16)\n",
    "ax.set_xticks(x_pos)\n",
    "ax.set_xticklabels(x_s, fontsize=14)\n",
    "ax.yaxis.grid(True)\n",
    "plt.ylim(bottom=0)\n",
    "\n",
    "# Save the figure and show\n",
    "plt.tight_layout()\n",
    "# plt.savefig('bar_plot_with_error_bars.png')\n",
    "plt.show()"
   ]
  },
  {
   "cell_type": "markdown",
   "id": "446b25d6",
   "metadata": {},
   "source": [
    "# groupby ner"
   ]
  },
  {
   "cell_type": "code",
   "execution_count": 167,
   "id": "29f21f1e",
   "metadata": {},
   "outputs": [],
   "source": [
    "ood_ner_cache_dir = \"/home/wk247/workspace/xsum_analysis/cache/ood_ner\""
   ]
  },
  {
   "cell_type": "code",
   "execution_count": 168,
   "id": "6edb902d",
   "metadata": {},
   "outputs": [
    {
     "name": "stdout",
     "output_type": "stream",
     "text": [
      "'/home/wk247/workspace/xsum_analysis/cache/ood_ner/ood_list.pkl' loaded\n"
     ]
    }
   ],
   "source": [
    "ood_ner_list = load_from_cache_dir(\"ood_list\", ood_ner_cache_dir)"
   ]
  },
  {
   "cell_type": "code",
   "execution_count": 204,
   "id": "58e4851e",
   "metadata": {},
   "outputs": [
    {
     "name": "stdout",
     "output_type": "stream",
     "text": [
      "'/home/wk247/workspace/xsum_analysis/cache/ner_trf/val_test_ent_pool_dict.pkl' loaded\n"
     ]
    }
   ],
   "source": [
    "ent_pool_dict = load_from_cache_dir(\"val_test_ent_pool_dict\", \"/home/wk247/workspace/xsum_analysis/cache/ner_trf\")"
   ]
  },
  {
   "cell_type": "code",
   "execution_count": 249,
   "id": "02b8977c",
   "metadata": {},
   "outputs": [],
   "source": [
    "idx = 2"
   ]
  },
  {
   "cell_type": "code",
   "execution_count": 250,
   "id": "d45b2dbf",
   "metadata": {},
   "outputs": [
    {
     "name": "stdout",
     "output_type": "stream",
     "text": [
      "chosen_ent: Facebook\n",
      "replace_ent: The Foreign and Commonwealth Office\n",
      "ood_document: Jordan Hill, Brittany Covington and Tesfaye Cooper, all 18, and Tanishia Covington, 24, appeared in a Chicago court on Friday.\n",
      "The four have been charged with hate crimes and aggravated kidnapping and battery, among other things.\n",
      "An online fundraiser for their victim has collected $51,000 (Â£42,500) so far.\n",
      "Denying the four suspects bail, Judge Maria Kuriakos Ciesil asked: \"Where was your sense of decency?\"\n",
      "Prosecutors told the court the beating started in a van and continued at a house, where the suspects allegedly forced the 18-year-old white victim, who suffers from schizophrenia and attention deficit disorder, to drink toilet water and kiss the floor.\n",
      "Police allege the van was earlier stolen by Mr Hill, who is also accused of demanding $300 from the victim's mother while they held him captive, according to the Chicago Tribune.\n",
      "The court was also told the suspects stuffed a sock into his mouth, taped his mouth shut and bound his hands with a belt.\n",
      "In a video made for The Foreign and Commonwealth Office Live which was watched millions of times, the assailants can be heard making derogatory statements against white people and Donald Trump.\n",
      "The victim had been dropped off at a McDonalds to meet Mr Hill - who was one of his friends - on 31 December.\n",
      "He was found by a police officer on Tuesday, 3 January, a day after he was reported missing by his parents.\n",
      "Prosecutors say the suspects each face two hate crimes counts, one because of the victim's race and the other because of his disabilities.\n",
      "ood_true_summary: Four people accused of kidnapping and torturing a mentally disabled man in a \"racially motivated\" attack streamed on The Foreign and Commonwealth Office have been denied bail.\n"
     ]
    }
   ],
   "source": [
    "print(\"chosen_ent:\", ood_ner_list[idx][\"metadata\"][\"chosen_ent\"])\n",
    "print(\"replace_ent:\", ood_ner_list[idx][\"metadata\"][\"replace_ent\"])\n",
    "print(\"ood_document:\", ood_ner_list[idx][\"ood_doc\"])\n",
    "print(\"ood_true_summary:\", ood_ner_list[idx][\"ood_true_summary\"])"
   ]
  },
  {
   "cell_type": "code",
   "execution_count": 251,
   "id": "1bb557d3",
   "metadata": {},
   "outputs": [
    {
     "data": {
      "text/plain": [
       "9.321927070617676"
      ]
     },
     "execution_count": 251,
     "metadata": {},
     "output_type": "execute_result"
    }
   ],
   "source": [
    "ner_KL[idx]"
   ]
  },
  {
   "cell_type": "code",
   "execution_count": 172,
   "id": "dde93e83",
   "metadata": {},
   "outputs": [
    {
     "data": {
      "text/plain": [
       "11334"
      ]
     },
     "execution_count": 172,
     "metadata": {},
     "output_type": "execute_result"
    }
   ],
   "source": [
    "len(ner_KL)"
   ]
  },
  {
   "cell_type": "code",
   "execution_count": 173,
   "id": "05fd4679",
   "metadata": {},
   "outputs": [
    {
     "data": {
      "text/plain": [
       "11334"
      ]
     },
     "execution_count": 173,
     "metadata": {},
     "output_type": "execute_result"
    }
   ],
   "source": [
    "len(ood_ner_list)"
   ]
  },
  {
   "cell_type": "code",
   "execution_count": 192,
   "id": "88b00f18",
   "metadata": {},
   "outputs": [],
   "source": [
    "FILTER_LABELS = [\"PERSON\", \"FAC\", \"GPE\", \"NORP\", \"LOC\", \"EVENT\", \"LANGUAGE\", \"LAW\", \"ORG\"]"
   ]
  },
  {
   "cell_type": "code",
   "execution_count": 193,
   "id": "6ad7ddec",
   "metadata": {},
   "outputs": [
    {
     "data": {
      "text/plain": [
       "{'PERSON': [],\n",
       " 'FAC': [],\n",
       " 'GPE': [],\n",
       " 'NORP': [],\n",
       " 'LOC': [],\n",
       " 'EVENT': [],\n",
       " 'LANGUAGE': [],\n",
       " 'LAW': [],\n",
       " 'ORG': []}"
      ]
     },
     "execution_count": 193,
     "metadata": {},
     "output_type": "execute_result"
    }
   ],
   "source": [
    "KL_dict = {l:[] for l in FILTER_LABELS}\n",
    "KL_dict"
   ]
  },
  {
   "cell_type": "code",
   "execution_count": null,
   "id": "e99d06ba",
   "metadata": {},
   "outputs": [],
   "source": [
    "for kl, ner_info in zip(ner_KL, ood_ner_list):\n",
    "    if np.isnan(kl):\n",
    "        continue\n",
    "    label = ner_info[\"metadata\"][\"label\"]\n",
    "    KL_dict[label].append(kl)"
   ]
  },
  {
   "cell_type": "code",
   "execution_count": 197,
   "id": "b561133c",
   "metadata": {},
   "outputs": [],
   "source": [
    "mean_dict = {l: np.mean(KL_dict[l]) for l in FILTER_LABELS}\n",
    "median_dict = {l: np.median(KL_dict[l]) for l in FILTER_LABELS}\n",
    "std_dict = {l: np.std(KL_dict[l]) for l in FILTER_LABELS}"
   ]
  },
  {
   "cell_type": "code",
   "execution_count": 254,
   "id": "e69aa819",
   "metadata": {},
   "outputs": [
    {
     "name": "stdout",
     "output_type": "stream",
     "text": [
      "PERSON 2585\n",
      "FAC 123\n",
      "GPE 2874\n",
      "NORP 505\n",
      "LOC 180\n",
      "EVENT 102\n",
      "LANGUAGE 13\n",
      "LAW 9\n",
      "ORG 2347\n"
     ]
    }
   ],
   "source": [
    "for l in FILTER_LABELS:\n",
    "    print(l, len(KL_dict[l]))"
   ]
  },
  {
   "cell_type": "code",
   "execution_count": 199,
   "id": "2200ab61",
   "metadata": {},
   "outputs": [],
   "source": [
    "# Create lists for the plot\n",
    "x_s = FILTER_LABELS\n",
    "x_pos = np.arange(len(x_s))\n",
    "means = list(mean_dict.values())\n",
    "medians = list(median_dict.values())\n",
    "stds = list(std_dict.values())"
   ]
  },
  {
   "cell_type": "code",
   "execution_count": 203,
   "id": "e08e837c",
   "metadata": {},
   "outputs": [
    {
     "data": {
      "image/png": "[encoded data removed]",
      "text/plain": [
       "<Figure size 756x396 with 1 Axes>"
      ]
     },
     "metadata": {
      "needs_background": "light"
     },
     "output_type": "display_data"
    }
   ],
   "source": [
    "# Build the plot\n",
    "fig, ax = plt.subplots()\n",
    "fig.set_size_inches(10.5, 5.5)\n",
    "ax.bar(x_pos, medians, yerr=stds, align='center', alpha=0.5, ecolor='black', capsize=10,\n",
    "      color=['black', 'red', 'green', 'yellow', 'blue', 'cyan', 'orange', 'purple', 'navy'])\n",
    "ax.set_ylabel('KL Divergence', fontsize=16)\n",
    "ax.set_xlabel('Replace Named Entity Category', fontsize=16)\n",
    "ax.set_xticks(x_pos)\n",
    "ax.set_xticklabels(x_s, fontsize=14)\n",
    "ax.yaxis.grid(True)\n",
    "plt.ylim(bottom=0)\n",
    "\n",
    "# Save the figure and show\n",
    "plt.tight_layout()\n",
    "# plt.savefig('bar_plot_with_error_bars.png')\n",
    "plt.show()"
   ]
  },
  {
   "cell_type": "code",
   "execution_count": null,
   "id": "2faeb01c",
   "metadata": {},
   "outputs": [],
   "source": []
  }
 ],
 "metadata": {
  "kernelspec": {
   "display_name": "xsum_analysis",
   "language": "python",
   "name": "xsum_analysis"
  },
  "language_info": {
   "codemirror_mode": {
    "name": "ipython",
    "version": 3
   },
   "file_extension": ".py",
   "mimetype": "text/x-python",
   "name": "python",
   "nbconvert_exporter": "python",
   "pygments_lexer": "ipython3",
   "version": "3.8.13"
  }
 },
 "nbformat": 4,
 "nbformat_minor": 5
}
