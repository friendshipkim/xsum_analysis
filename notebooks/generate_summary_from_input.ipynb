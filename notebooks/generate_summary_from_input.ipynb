{
 "cells": [
  {
   "cell_type": "code",
   "execution_count": 1,
   "id": "dc74bd9d",
   "metadata": {},
   "outputs": [],
   "source": [
    "from xsum_dataset import XsumDataset\n",
    "from generate_xsum_summary import load_summarization_model_and_tokenizer, generate_summaries, generate_token_entropy_metadata\n",
    "\n",
    "import datasets\n",
    "import random\n",
    "\n",
    "random.seed(0)"
   ]
  },
  {
   "cell_type": "markdown",
   "id": "03a25721",
   "metadata": {},
   "source": [
    "## load model and tokenizer\n",
    "---"
   ]
  },
  {
   "cell_type": "code",
   "execution_count": 2,
   "id": "47f28592",
   "metadata": {},
   "outputs": [],
   "source": [
    "model_name = \"facebook/bart-large-xsum\"\n",
    "model, tokenizer = load_summarization_model_and_tokenizer(model_name)"
   ]
  },
  {
   "cell_type": "markdown",
   "id": "64a9992a",
   "metadata": {},
   "source": [
    "## load dataset and concat train/val/test\n",
    "---"
   ]
  },
  {
   "cell_type": "code",
   "execution_count": 3,
   "id": "f1cb0b39",
   "metadata": {},
   "outputs": [
    {
     "name": "stderr",
     "output_type": "stream",
     "text": [
      "Using custom data configuration default\n",
      "Reusing dataset xsum (/home/wk247/.cache/huggingface/datasets/xsum/default/1.2.0/32c23220eadddb1149b16ed2e9430a05293768cfffbdfd151058697d4c11f934)\n"
     ]
    },
    {
     "data": {
      "application/vnd.jupyter.widget-view+json": {
       "model_id": "f69207f8fbcd4bdfb85597cadc7dca40",
       "version_major": 2,
       "version_minor": 0
      },
      "text/plain": [
       "  0%|          | 0/3 [00:00<?, ?it/s]"
      ]
     },
     "metadata": {},
     "output_type": "display_data"
    }
   ],
   "source": [
    "xsum_data_raw = datasets.load_dataset(\"xsum\")\n",
    "xsum_data_raw_cc = datasets.concatenate_datasets(\n",
    "    [xsum_data_raw[\"train\"], xsum_data_raw[\"validation\"], xsum_data_raw[\"test\"]]\n",
    "    )\n",
    "xsum_concat_data = XsumDataset(xsum_data_raw_cc)\n"
   ]
  },
  {
   "cell_type": "markdown",
   "id": "157ae593",
   "metadata": {},
   "source": [
    "## select a sample from dataset with bbcid\n",
    "---\n",
    "* we can select multiple samples, but let's just sample one for easy comparison"
   ]
  },
  {
   "cell_type": "code",
   "execution_count": 4,
   "id": "7a0117fe",
   "metadata": {},
   "outputs": [
    {
     "data": {
      "text/plain": [
       "['38424799']"
      ]
     },
     "execution_count": 4,
     "metadata": {},
     "output_type": "execute_result"
    }
   ],
   "source": [
    "# sample one bbcid\n",
    "bbc_ids = random.choices(list(xsum_concat_data.data_by_id.keys()), k=1)\n",
    "# or fix one: bbc_ids = [\"33858956\"]\n",
    "bbc_ids"
   ]
  },
  {
   "cell_type": "code",
   "execution_count": 5,
   "id": "58eb40ac",
   "metadata": {},
   "outputs": [
    {
     "name": "stdout",
     "output_type": "stream",
     "text": [
      "original docs to summarize:\n",
      " ['In very blustery conditions the Sons secured victory courtesy of a goal from Mark Docherty, who had scored in August\\'s 1-0 win over the Tangerines.\\nHis cross evaded everyone and the wind played a part as the ball whipped into the net past goalkeeper Cammy Bell.\\nWith Hibernian winning earlier in the day at Falkirk, United slip to second going into 2017.\\nDumbarton began on the front foot. Docherty fired in a shot from 25 yards, but it was comfortably held by Bell.\\nSam Stanton also tried his luck for the hosts, firing just wide of the post.\\nEventually Dumbarton would get their reward for a positive start. Docherty slung in a cross from the left and soon celebrated a deserved lead for the Sons.\\nIt took half-an-hour for United to muster any meaningful sight of goal. Stewart Murdoch shot from 25 yards but it was easily held by Alan Martin.\\nUnited did have the ball in the back of the net just before half-time when Simon Murray fired home from close range, but it was ruled out for offside.\\nAnd just after the interval United struck the bar through an unorthodox back-heeled effort from Mark Durnan following a corner.\\nSubstitute Cammy Smith had a shot deflected up on to the roof of the Dumbarton net. Scott Fraser also fired a free-kick just over the bar for the visitors.\\nIn stoppage time United came so close to an equaliser, Coll Donaldson hitting the post with a header from a corner.\\nDumbarton manager Steve Aitken: \"I would have taken that scoreline before the game. It was always going to be tough with the conditions but most importantly we were playing against the league leaders who for 14 or 15 weeks have been terrific and deserve to be top of the league and I\\'m sure they will challenge all the way to the end. The fact we have won at home against them is very pleasing.\\n\"It\\'s been a great 2016 for me personally, we\\'ve come in here and we managed to stay up last year against all the odds. We were tipped to go down this year, and although we\\'re only half way through the season we have shown that we are competitive. But we will enjoy it. We have to work hard in January, players will come and go, other teams will strengthen and will try and do the same.\\n\"It is a big few weeks ahead of us but we\\'ll enjoy it and get back to work on Tuesday.\"\\nDundee United manager Ray McKinnon: \"I think the weather summed up the day today perfectly. It was just about impossible to play football in those conditions - I\\'m not making excuses at all - but it\\'s certainly not ideal weather to be playing football in, especially when you\\'re asking a team to be very technical and play a certain way.\"\\n\"We\\'re disappointed with the result but I\\'m going to be mindful of the fact the team has been 13 games unbeaten and we have lost in really bad conditions today. We have to take that on the chin, we have to regroup, a big game on Friday [against Hibs] and I\\'m sure the boys will be motivated for the game on Friday.\"\\n\"[On the Tony Andreu injury, which saw the player miss out today] He\\'s got a strain in between his rib and it\\'s precautionary. He was struggling today and we just thought we wouldn\\'t take any chances with him. Hopefully he\\'s nice and fresh and over his injury for next week.\"\\nMatch ends, Dumbarton 1, Dundee United 0.\\nSecond Half ends, Dumbarton 1, Dundee United 0.\\nAttempt missed. Tope Obadeyi (Dundee United) left footed shot from outside the box is high and wide to the right.\\nMark Durnan (Dundee United) hits the left post with a header from very close range.\\nCorner,  Dundee United. Conceded by Darren Barr.\\nCorner,  Dundee United. Conceded by Joseph Thomson.\\nAttempt missed. William Edjenguele (Dundee United) left footed shot from outside the box is too high.\\nGregor Buchanan (Dumbarton) is shown the yellow card.\\nNick van der Velden (Dundee United) is shown the yellow card for a bad foul.\\nFoul by Nick van der Velden (Dundee United).\\nGregor Buchanan (Dumbarton) wins a free kick on the right wing.\\nSubstitution, Dundee United. Coll Donaldson replaces Scott Fraser.\\nSubstitution, Dumbarton. Ryan Stevenson replaces Garry Fleming.\\nAttempt missed. Scott Fraser (Dundee United) left footed shot from outside the box is too high from a direct free kick.\\nCameron Smith (Dundee United) wins a free kick in the defensive half.\\nFoul by Darren Barr (Dumbarton).\\nCorner,  Dundee United. Conceded by Mark Docherty.\\nRobert Thomson (Dumbarton) is shown the yellow card for a bad foul.\\nTope Obadeyi (Dundee United) wins a free kick on the right wing.\\nFoul by Robert Thomson (Dumbarton).\\nCorner,  Dundee United. Conceded by David Smith.\\nAttempt blocked. Cameron Smith (Dundee United) right footed shot from outside the box is blocked.\\nCorner,  Dumbarton. Conceded by Willo Flood.\\nAttempt missed. Robert Thomson (Dumbarton) right footed shot from outside the box is high and wide to the left.\\nCorner,  Dundee United. Conceded by David Smith.\\nSubstitution, Dundee United. Tope Obadeyi replaces Blair Spittal.\\nSubstitution, Dundee United. Cameron Smith replaces Simon Murray.\\nAttempt missed. Paul Dixon (Dundee United) right footed shot from outside the box is too high.\\nAttempt missed. Paul Dixon (Dundee United) left footed shot from more than 35 yards is too high.\\nFoul by Mark Durnan (Dundee United).\\nSamuel Stanton (Dumbarton) wins a free kick in the defensive half.\\nMark Durnan (Dundee United) hits the bar with a right footed shot from very close range.\\nCorner,  Dundee United. Conceded by Daniel Harvie.\\nAttempt blocked. Scott Fraser (Dundee United) right footed shot from outside the box is blocked.\\nAttempt blocked. Josh Todd (Dumbarton) right footed shot from the centre of the box is blocked.\\nSecond Half begins Dumbarton 1, Dundee United 0.\\nFirst Half ends, Dumbarton 1, Dundee United 0.\\nFoul by Stewart Murdoch (Dundee United).\\nMark Docherty (Dumbarton) wins a free kick in the attacking half.\\nBlair Spittal (Dundee United) wins a free kick in the defensive half.']\n"
     ]
    }
   ],
   "source": [
    "# selected_data - list of dicts with keys: (id, document, true_summary, (factuality_data, faithfulness_data))\n",
    "selected_data = [xsum_concat_data.data_by_id[x] for x in bbc_ids]\n",
    "\n",
    "# original_docs - list of documents to sumamrize\n",
    "original_docs = [x[\"document\"] for x in selected_data]\n",
    "print(\"original docs to summarize:\\n\", original_docs)"
   ]
  },
  {
   "cell_type": "markdown",
   "id": "f3fb9e5b",
   "metadata": {},
   "source": [
    "## generate summaries of original documents\n",
    "---"
   ]
  },
  {
   "cell_type": "code",
   "execution_count": 6,
   "id": "964c90b0",
   "metadata": {},
   "outputs": [],
   "source": [
    "# generate summaries and metadata\n",
    "gen_summaries, gen_metadata = generate_summaries(\n",
    "    model,\n",
    "    tokenizer,\n",
    "    original_docs,\n",
    "    num_beams=4,\n",
    "    return_generation_metadata=True\n",
    ")"
   ]
  },
  {
   "cell_type": "code",
   "execution_count": 7,
   "id": "dca73f25",
   "metadata": {},
   "outputs": [],
   "source": [
    "# generate token entropy metadata\n",
    "gen_token_entropy_metadata = generate_token_entropy_metadata(bbc_ids, gen_metadata)"
   ]
  },
  {
   "cell_type": "code",
   "execution_count": 8,
   "id": "36c58e3e",
   "metadata": {},
   "outputs": [
    {
     "data": {
      "text/plain": [
       "['Dundee United lost ground at the top of the Scottish Championship after being beaten at Dumbarton.']"
      ]
     },
     "execution_count": 8,
     "metadata": {},
     "output_type": "execute_result"
    }
   ],
   "source": [
    "gen_summaries"
   ]
  },
  {
   "cell_type": "code",
   "execution_count": 9,
   "id": "e21797c6",
   "metadata": {},
   "outputs": [
    {
     "data": {
      "text/plain": [
       "{'38424799': {'tokens_with_entropy': [('D', 1.593770980834961),\n",
       "   ('und', 3.4541940689086914),\n",
       "   ('ee', 1.0558691024780273),\n",
       "   (' United', 1.2431459426879883),\n",
       "   (' lost', 3.7446138858795166),\n",
       "   (' ground', 3.280916690826416),\n",
       "   (' at', 2.2022035121917725),\n",
       "   (' the', 1.1939692497253418),\n",
       "   (' top', 1.1276772022247314),\n",
       "   (' of', 1.3361749649047852),\n",
       "   (' the', 1.6074154376983643),\n",
       "   (' Scottish', 2.3245315551757812),\n",
       "   (' Championship', 1.8109066486358643),\n",
       "   (' after', 2.332247018814087),\n",
       "   (' being', 1.5816192626953125),\n",
       "   (' beaten', 1.6345798969268799),\n",
       "   (' at', 4.622220993041992),\n",
       "   (' Dumb', 2.504394292831421),\n",
       "   ('arton', 2.3805301189422607),\n",
       "   ('.', 2.6738195419311523),\n",
       "   ('</s>', 2.9492383003234863)]}}"
      ]
     },
     "execution_count": 9,
     "metadata": {},
     "output_type": "execute_result"
    }
   ],
   "source": [
    "gen_token_entropy_metadata"
   ]
  },
  {
   "cell_type": "markdown",
   "id": "f4f3e495",
   "metadata": {},
   "source": [
    "## input perturbed document\n",
    "---\n",
    "* (CHECK) escape sequences may differ whether original documents are coiped from terminal or streamlit\n",
    "* first check if original doc and perturbed doc are the same"
   ]
  },
  {
   "cell_type": "code",
   "execution_count": 10,
   "id": "65772dba",
   "metadata": {},
   "outputs": [],
   "source": [
    "# new input\n",
    "perturbed_docs = [str(input(\"perturbed doc:\")).replace('\\\\n', '\\n').replace(\"\\\\\", \"\")]"
   ]
  },
  {
   "cell_type": "code",
   "execution_count": 11,
   "id": "b550e32d",
   "metadata": {},
   "outputs": [],
   "source": [
    "# check if original doc and perturbed doc are the same\n",
    "assert original_docs[0] == perturbed_docs[0], \"original doc and perturbed doc are different\""
   ]
  },
  {
   "cell_type": "markdown",
   "id": "8e4c2aa0",
   "metadata": {},
   "source": [
    "## generate summaries of pertrubed documents\n",
    "---"
   ]
  },
  {
   "cell_type": "code",
   "execution_count": 12,
   "id": "bf1b3474",
   "metadata": {},
   "outputs": [],
   "source": [
    "# generate summaries of perturbed documents\n",
    "ptb_summaries, ptb_metadata = generate_summaries(\n",
    "    model,\n",
    "    tokenizer,\n",
    "    perturbed_docs,\n",
    "    num_beams=4,\n",
    "    return_generation_metadata=True\n",
    ")"
   ]
  },
  {
   "cell_type": "code",
   "execution_count": 13,
   "id": "1b4e996c",
   "metadata": {},
   "outputs": [],
   "source": [
    "ptb_token_entropy_metadata = generate_token_entropy_metadata(bbc_ids, ptb_metadata)\n"
   ]
  },
  {
   "cell_type": "code",
   "execution_count": 14,
   "id": "afbc1a3f",
   "metadata": {},
   "outputs": [
    {
     "data": {
      "text/plain": [
       "['Dundee United lost ground at the top of the Scottish Championship after being beaten at Dumbarton.']"
      ]
     },
     "execution_count": 14,
     "metadata": {},
     "output_type": "execute_result"
    }
   ],
   "source": [
    "ptb_summaries"
   ]
  },
  {
   "cell_type": "code",
   "execution_count": 15,
   "id": "247637b0",
   "metadata": {},
   "outputs": [
    {
     "data": {
      "text/plain": [
       "{'38424799': {'tokens_with_entropy': [('D', 1.593770980834961),\n",
       "   ('und', 3.4541940689086914),\n",
       "   ('ee', 1.0558691024780273),\n",
       "   (' United', 1.2431459426879883),\n",
       "   (' lost', 3.7446138858795166),\n",
       "   (' ground', 3.280916690826416),\n",
       "   (' at', 2.2022035121917725),\n",
       "   (' the', 1.1939692497253418),\n",
       "   (' top', 1.1276772022247314),\n",
       "   (' of', 1.3361749649047852),\n",
       "   (' the', 1.6074154376983643),\n",
       "   (' Scottish', 2.3245315551757812),\n",
       "   (' Championship', 1.8109066486358643),\n",
       "   (' after', 2.332247018814087),\n",
       "   (' being', 1.5816192626953125),\n",
       "   (' beaten', 1.6345798969268799),\n",
       "   (' at', 4.622220993041992),\n",
       "   (' Dumb', 2.504394292831421),\n",
       "   ('arton', 2.3805301189422607),\n",
       "   ('.', 2.6738195419311523),\n",
       "   ('</s>', 2.9492383003234863)]}}"
      ]
     },
     "execution_count": 15,
     "metadata": {},
     "output_type": "execute_result"
    }
   ],
   "source": [
    "ptb_token_entropy_metadata"
   ]
  },
  {
   "cell_type": "markdown",
   "id": "e4bd65d2",
   "metadata": {},
   "source": [
    "## print summary and metadata\n",
    "---"
   ]
  },
  {
   "cell_type": "code",
   "execution_count": 16,
   "id": "77faf44a",
   "metadata": {},
   "outputs": [
    {
     "name": "stdout",
     "output_type": "stream",
     "text": [
      "XSUM ID 38424799\n",
      "* GROUND TRUTH SUMMARY: Dundee United relinquished their lead at the top of the Championship with a dismal defeat at Dumbarton.\n",
      "\n",
      "* GENERATED SUMMARY: Dundee United lost ground at the top of the Scottish Championship after being beaten at Dumbarton.\n",
      "* PERTURBED SUMMARY: Dundee United lost ground at the top of the Scottish Championship after being beaten at Dumbarton.\n",
      "\n",
      "* original document == perturbed document: True\n",
      "* generated summary == perturbed summary: True\n"
     ]
    }
   ],
   "source": [
    "for source, perturbed_doc, gen_summary, ptb_summary in zip(selected_data, perturbed_docs, gen_summaries, ptb_summaries):\n",
    "    print(\"XSUM ID\", source[\"id\"])\n",
    "    print(\"* GROUND TRUTH SUMMARY:\", source[\"true_summary\"])\n",
    "    print()\n",
    "    print(\"* GENERATED SUMMARY:\", gen_summary)\n",
    "    print(\"* PERTURBED SUMMARY:\", ptb_summary)\n",
    "    print()\n",
    "    print(\"* original document == perturbed document:\", source[\"document\"] == perturbed_doc)\n",
    "    print(\"* generated summary == perturbed summary:\", gen_summary == ptb_summary)"
   ]
  }
 ],
 "metadata": {
  "interpreter": {
   "hash": "3c2789b0979d1759b51b3443dd6e1b969717b58ddc9207e99702b2e7feec8242"
  },
  "kernelspec": {
   "display_name": "pytorch",
   "language": "python",
   "name": "python3"
  },
  "language_info": {
   "codemirror_mode": {
    "name": "ipython",
    "version": 3
   },
   "file_extension": ".py",
   "mimetype": "text/x-python",
   "name": "python",
   "nbconvert_exporter": "python",
   "pygments_lexer": "ipython3",
   "version": "3.8.13"
  }
 },
 "nbformat": 4,
 "nbformat_minor": 5
}
